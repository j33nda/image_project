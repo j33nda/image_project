{
 "cells": [
  {
   "cell_type": "code",
   "execution_count": 47,
   "id": "82e6d85d-33c9-467c-8d9c-b3e9b929a79b",
   "metadata": {},
   "outputs": [],
   "source": [
    "from ultralytics import YOLO\n",
    "import matplotlib.pyplot as plt\n",
    "import cv2"
   ]
  },
  {
   "cell_type": "code",
   "execution_count": 39,
   "id": "c699b6d6-b4e9-441e-b265-0224c9382b67",
   "metadata": {
    "scrolled": true
   },
   "outputs": [
    {
     "name": "stdout",
     "output_type": "stream",
     "text": [
      "Ultralytics 8.3.180 🚀 Python-3.13.2 torch-2.8.0 MPS (Apple M1 Pro)\n",
      "YOLO11n summary (fused): 100 layers, 2,582,347 parameters, 0 gradients, 6.3 GFLOPs\n",
      "\u001b[34m\u001b[1mval: \u001b[0mFast image access ✅ (ping: 0.0±0.0 ms, read: 1041.8±128.1 MB/s, size: 274.0 KB)\n"
     ]
    },
    {
     "name": "stderr",
     "output_type": "stream",
     "text": [
      "\u001b[34m\u001b[1mval: \u001b[0mScanning /Users/jenda/unive/IMAGE/project/datasets/new/labels/val.cache... 127 images, 0 backgrounds, 0 corrupt: 100%|██████████| 127/127 [00:00<?, ?it/s]\u001b[0m\n",
      "                 Class     Images  Instances      Box(P          R      mAP50  mAP50-95): 100%|██████████| 4/4 [00:03<00:00,  1.15it/s]\n"
     ]
    },
    {
     "name": "stdout",
     "output_type": "stream",
     "text": [
      "                   all        127        128      0.926      0.874      0.933      0.653\n",
      "Speed: 1.1ms preprocess, 4.1ms inference, 0.0ms loss, 5.8ms postprocess per image\n",
      "Results saved to \u001b[1mruns/detect/val11\u001b[0m\n"
     ]
    }
   ],
   "source": [
    "NANO = 'gala/train3/'\n",
    "SMALL = 'gala/train2/'\n",
    "\n",
    "MODELDIR = NANO\n",
    "device = 'mps'\n",
    "\n",
    "\n",
    "model = MODELDIR + 'weights/best.pt'\n",
    "\n",
    "model = YOLO(model)\n",
    "metrics = model.val(imgsz=736, device=device, batch=32, plots=True)"
   ]
  },
  {
   "cell_type": "code",
   "execution_count": 50,
   "id": "f155d26c-5482-417b-854d-45145b8a7016",
   "metadata": {},
   "outputs": [
    {
     "data": {
      "text/plain": [
       "<matplotlib.image.AxesImage at 0x324cefc50>"
      ]
     },
     "execution_count": 50,
     "metadata": {},
     "output_type": "execute_result"
    }
   ],
   "source": [
    "results = cv2.imread(MODELDIR + 'results.png')\n",
    "plt.imshow(results)"
   ]
  },
  {
   "cell_type": "code",
   "execution_count": 34,
   "id": "cb9e66f0-4849-41fa-94a7-36d6186bcb3b",
   "metadata": {},
   "outputs": [
    {
     "ename": "TypeError",
     "evalue": "'DetMetrics' object is not iterable",
     "output_type": "error",
     "traceback": [
      "\u001b[31m---------------------------------------------------------------------------\u001b[39m",
      "\u001b[31mTypeError\u001b[39m                                 Traceback (most recent call last)",
      "\u001b[36mCell\u001b[39m\u001b[36m \u001b[39m\u001b[32mIn[34]\u001b[39m\u001b[32m, line 1\u001b[39m\n\u001b[32m----> \u001b[39m\u001b[32m1\u001b[39m \u001b[38;5;28;43;01mfor\u001b[39;49;00m\u001b[43m \u001b[49m\u001b[43mr\u001b[49m\u001b[43m \u001b[49m\u001b[38;5;129;43;01min\u001b[39;49;00m\u001b[43m \u001b[49m\u001b[43mmetrics\u001b[49m\u001b[43m:\u001b[49m\n\u001b[32m      2\u001b[39m \u001b[43m    \u001b[49m\u001b[38;5;66;43;03m# r.plot() returns a matplotlib figure\u001b[39;49;00m\n\u001b[32m      3\u001b[39m \u001b[43m    \u001b[49m\u001b[43mfig\u001b[49m\u001b[43m \u001b[49m\u001b[43m=\u001b[49m\u001b[43m \u001b[49m\u001b[43mr\u001b[49m\u001b[43m.\u001b[49m\u001b[43mplot\u001b[49m\u001b[43m(\u001b[49m\u001b[43m)\u001b[49m\n\u001b[32m      4\u001b[39m \u001b[43m    \u001b[49m\u001b[43mplt\u001b[49m\u001b[43m.\u001b[49m\u001b[43mshow\u001b[49m\u001b[43m(\u001b[49m\u001b[43mfig\u001b[49m\u001b[43m)\u001b[49m\n",
      "\u001b[31mTypeError\u001b[39m: 'DetMetrics' object is not iterable"
     ]
    }
   ],
   "source": [
    "for r in metrics:\n",
    "    # r.plot() returns a matplotlib figure\n",
    "    fig = r.plot()\n",
    "    plt.show(fig)\n",
    "    break  # show first image only"
   ]
  },
  {
   "cell_type": "code",
   "execution_count": null,
   "id": "795f0b5a-edf6-4d71-98ce-9b58db6c533f",
   "metadata": {},
   "outputs": [],
   "source": []
  }
 ],
 "metadata": {
  "kernelspec": {
   "display_name": "Python 3 (ipykernel)",
   "language": "python",
   "name": "python3"
  },
  "language_info": {
   "codemirror_mode": {
    "name": "ipython",
    "version": 3
   },
   "file_extension": ".py",
   "mimetype": "text/x-python",
   "name": "python",
   "nbconvert_exporter": "python",
   "pygments_lexer": "ipython3",
   "version": "3.13.2"
  }
 },
 "nbformat": 4,
 "nbformat_minor": 5
}
