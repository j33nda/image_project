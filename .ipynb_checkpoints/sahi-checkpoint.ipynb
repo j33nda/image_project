{
 "cells": [
  {
   "cell_type": "code",
   "execution_count": 80,
   "id": "09cdee8e-14de-41ab-a53d-dd9a8d7568e6",
   "metadata": {},
   "outputs": [],
   "source": [
    "from sahi import AutoDetectionModel\n",
    "from sahi.utils.cv import read_image\n",
    "from sahi.utils.file import download_from_url\n",
    "from sahi.predict import get_prediction, get_sliced_prediction, predict\n",
    "from sahi.scripts.coco_evaluation import evaluate\n",
    "from IPython.display import Image\n",
    "import fiftyone as fo"
   ]
  },
  {
   "cell_type": "code",
   "execution_count": 70,
   "id": "3236c147-42ea-40e8-926b-bad4be6ac410",
   "metadata": {},
   "outputs": [
    {
     "name": "stderr",
     "output_type": "stream",
     "text": [
      "/Users/jenda/unive/.venv/lib/python3.13/site-packages/sahi/utils/torch_utils.py:72: UserWarning: 'has_mps' is deprecated, please use 'torch.backends.mps.is_built()'\n",
      "  elif mps and getattr(torch, \"has_mps\", False) and torch.backends.mps.is_available():  # prefer MPS if available\n"
     ]
    }
   ],
   "source": [
    "NANO = 'gala/train3/'\n",
    "SMALL = 'gala/train2/'\n",
    "\n",
    "MODELDIR = NANO\n",
    "device = 'mps'\n",
    "\n",
    "model = MODELDIR + 'weights/best.pt'\n",
    "\n",
    "data = 'datasets/new/images/val/'\n",
    "\n",
    "model_type = 'yolov11'\n",
    "confidence_threshold=0.3\n",
    "slice_height=640\n",
    "slice_width=640\n",
    "overlap_height_ratio=0.2\n",
    "overlap_width_ratio=0.2\n",
    "\n",
    "detection_model = AutoDetectionModel.from_pretrained(\n",
    "    model_type=model_type,\n",
    "    model_path=model,\n",
    "    confidence_threshold=confidence_threshold,\n",
    "    device=device,\n",
    "    image_size=736\n",
    ")"
   ]
  },
  {
   "cell_type": "code",
   "execution_count": 71,
   "id": "e6f003ca-f784-4695-8610-552bed8f9d0c",
   "metadata": {
    "scrolled": true
   },
   "outputs": [
    {
     "name": "stdout",
     "output_type": "stream",
     "text": [
      " 100% |█████████████████| 127/127 [94.6ms elapsed, 0s remaining, 1.3K samples/s]   \n"
     ]
    }
   ],
   "source": [
    "dataset = fo.Dataset.from_dir(dataset_dir = 'datasets/new/', dataset_type=fo.types.YOLOv5Dataset)"
   ]
  },
  {
   "cell_type": "code",
   "execution_count": 72,
   "id": "06b53f91-9cd2-408d-aff6-0c9e34c2943d",
   "metadata": {
    "scrolled": true
   },
   "outputs": [
    {
     "name": "stdout",
     "output_type": "stream",
     "text": [
      "Performing prediction on 6 slices.\n",
      "Performing prediction on 6 slices.\n",
      "Performing prediction on 6 slices.\n",
      "Performing prediction on 6 slices.\n",
      "Performing prediction on 6 slices.\n",
      "Performing prediction on 6 slices.\n",
      "Performing prediction on 8 slices.\n",
      "Performing prediction on 6 slices.\n",
      "Performing prediction on 6 slices.\n",
      "Performing prediction on 8 slices.\n",
      "Performing prediction on 6 slices.\n",
      "Performing prediction on 8 slices.\n",
      "Performing prediction on 6 slices.\n",
      "Performing prediction on 6 slices.\n",
      "Performing prediction on 6 slices.\n",
      "Performing prediction on 6 slices.\n",
      "Performing prediction on 6 slices.\n",
      "Performing prediction on 6 slices.\n",
      "Performing prediction on 6 slices.\n",
      "Performing prediction on 6 slices.\n",
      "Performing prediction on 6 slices.\n",
      "Performing prediction on 6 slices.\n",
      "Performing prediction on 8 slices.\n",
      "Performing prediction on 6 slices.\n",
      "Performing prediction on 6 slices.\n",
      "Performing prediction on 6 slices.\n",
      "Performing prediction on 6 slices.\n",
      "Performing prediction on 6 slices.\n",
      "Performing prediction on 6 slices.\n",
      "Performing prediction on 6 slices.\n",
      "Performing prediction on 6 slices.\n",
      "Performing prediction on 6 slices.\n",
      "Performing prediction on 6 slices.\n",
      "Performing prediction on 6 slices.\n",
      "Performing prediction on 6 slices.\n",
      "Performing prediction on 6 slices.\n",
      "Performing prediction on 6 slices.\n",
      "Performing prediction on 6 slices.\n",
      "Performing prediction on 6 slices.\n",
      "Performing prediction on 6 slices.\n",
      "Performing prediction on 6 slices.\n",
      "Performing prediction on 8 slices.\n",
      "Performing prediction on 6 slices.\n",
      "Performing prediction on 6 slices.\n",
      "Performing prediction on 6 slices.\n",
      "Performing prediction on 6 slices.\n",
      "Performing prediction on 6 slices.\n",
      "Performing prediction on 6 slices.\n",
      "Performing prediction on 6 slices.\n",
      "Performing prediction on 8 slices.\n",
      "Performing prediction on 6 slices.\n",
      "Performing prediction on 6 slices.\n",
      "Performing prediction on 6 slices.\n",
      "Performing prediction on 6 slices.\n",
      "Performing prediction on 6 slices.\n",
      "Performing prediction on 6 slices.\n",
      "Performing prediction on 6 slices.\n",
      "Performing prediction on 6 slices.\n",
      "Performing prediction on 6 slices.\n",
      "Performing prediction on 6 slices.\n",
      "Performing prediction on 6 slices.\n",
      "Performing prediction on 6 slices.\n",
      "Performing prediction on 8 slices.\n",
      "Performing prediction on 6 slices.\n",
      "Performing prediction on 6 slices.\n",
      "Performing prediction on 6 slices.\n",
      "Performing prediction on 6 slices.\n",
      "Performing prediction on 6 slices.\n",
      "Performing prediction on 6 slices.\n",
      "Performing prediction on 6 slices.\n",
      "Performing prediction on 6 slices.\n",
      "Performing prediction on 6 slices.\n",
      "Performing prediction on 6 slices.\n",
      "Performing prediction on 6 slices.\n",
      "Performing prediction on 6 slices.\n",
      "Performing prediction on 6 slices.\n",
      "Performing prediction on 6 slices.\n",
      "Performing prediction on 6 slices.\n",
      "Performing prediction on 6 slices.\n",
      "Performing prediction on 6 slices.\n",
      "Performing prediction on 6 slices.\n",
      "Performing prediction on 6 slices.\n",
      "Performing prediction on 6 slices.\n",
      "Performing prediction on 6 slices.\n",
      "Performing prediction on 8 slices.\n",
      "Performing prediction on 6 slices.\n",
      "Performing prediction on 6 slices.\n",
      "Performing prediction on 6 slices.\n",
      "Performing prediction on 6 slices.\n",
      "Performing prediction on 8 slices.\n",
      "Performing prediction on 6 slices.\n",
      "Performing prediction on 6 slices.\n",
      "Performing prediction on 6 slices.\n",
      "Performing prediction on 6 slices.\n",
      "Performing prediction on 6 slices.\n",
      "Performing prediction on 6 slices.\n",
      "Performing prediction on 6 slices.\n",
      "Performing prediction on 6 slices.\n",
      "Performing prediction on 6 slices.\n",
      "Performing prediction on 6 slices.\n",
      "Performing prediction on 6 slices.\n",
      "Performing prediction on 6 slices.\n",
      "Performing prediction on 6 slices.\n",
      "Performing prediction on 6 slices.\n",
      "Performing prediction on 8 slices.\n",
      "Performing prediction on 6 slices.\n",
      "Performing prediction on 6 slices.\n",
      "Performing prediction on 6 slices.\n",
      "Performing prediction on 6 slices.\n",
      "Performing prediction on 6 slices.\n",
      "Performing prediction on 6 slices.\n",
      "Performing prediction on 8 slices.\n",
      "Performing prediction on 6 slices.\n",
      "Performing prediction on 6 slices.\n",
      "Performing prediction on 6 slices.\n",
      "Performing prediction on 6 slices.\n",
      "Performing prediction on 6 slices.\n",
      "Performing prediction on 6 slices.\n",
      "Performing prediction on 6 slices.\n",
      "Performing prediction on 6 slices.\n",
      "Performing prediction on 6 slices.\n",
      "Performing prediction on 6 slices.\n",
      "Performing prediction on 8 slices.\n",
      "Performing prediction on 6 slices.\n",
      "Performing prediction on 6 slices.\n",
      "Performing prediction on 6 slices.\n",
      "Performing prediction on 6 slices.\n"
     ]
    }
   ],
   "source": [
    "for sample in dataset:\n",
    "    pred = get_sliced_prediction(\n",
    "        sample.filepath,\n",
    "        detection_model,\n",
    "        slice_height = slice_height,\n",
    "        slice_width = slice_width,\n",
    "        overlap_height_ratio = overlap_height_ratio,\n",
    "        overlap_width_ratio = overlap_width_ratio\n",
    "    )\n",
    "    detections =  pred.to_fiftyone_detections()\n",
    "    sample['predictions'] = fo.Detections(detections = detections)\n",
    "    sample.save()\n"
   ]
  },
  {
   "cell_type": "code",
   "execution_count": 81,
   "id": "20d2e064-c2cf-4960-95d7-cadec00415bc",
   "metadata": {
    "scrolled": true
   },
   "outputs": [
    {
     "name": "stdout",
     "output_type": "stream",
     "text": [
      "Evaluating detections...\n",
      " 100% |█████████████████| 127/127 [153.3ms elapsed, 0s remaining, 828.3 samples/s]     \n",
      "Performing IoU sweep...\n",
      " 100% |█████████████████| 127/127 [181.3ms elapsed, 0s remaining, 700.5 samples/s]     \n",
      "              precision    recall  f1-score   support\n",
      "\n",
      "        ball       0.52      0.86      0.65       128\n",
      "\n",
      "   micro avg       0.52      0.86      0.65       128\n",
      "   macro avg       0.52      0.86      0.65       128\n",
      "weighted avg       0.52      0.86      0.65       128\n",
      "\n"
     ]
    },
    {
     "data": {
      "text/plain": []
     },
     "metadata": {},
     "output_type": "display_data"
    },
    {
     "data": {
      "text/plain": []
     },
     "metadata": {},
     "output_type": "display_data"
    },
    {
     "data": {
      "application/vnd.jupyter.widget-view+json": {
       "model_id": "b90cbcdb2e8443ffb4e916d3555e4be4",
       "version_major": 2,
       "version_minor": 0
      },
      "text/plain": [
       "FigureWidget({\n",
       "    'data': [{'mode': 'markers',\n",
       "              'opacity': 0.1,\n",
       "              'type': 'scatter',\n",
       "              'uid': 'ad40c79b-4024-4248-a22b-9d04e1b66be3',\n",
       "              'x': {'bdata': 'AAEAAQ==', 'dtype': 'i1'},\n",
       "              'y': {'bdata': 'AAABAQ==', 'dtype': 'i1'}},\n",
       "             {'colorscale': [[0.0, 'rgb(255,245,235)'], [0.125,\n",
       "                             'rgb(254,230,206)'], [0.25, 'rgb(253,208,162)'],\n",
       "                             [0.375, 'rgb(253,174,107)'], [0.5, 'rgb(253,141,60)'],\n",
       "                             [0.625, 'rgb(241,105,19)'], [0.75, 'rgb(217,72,1)'],\n",
       "                             [0.875, 'rgb(166,54,3)'], [1.0, 'rgb(127,39,4)']],\n",
       "              'hoverinfo': 'skip',\n",
       "              'showscale': False,\n",
       "              'type': 'heatmap',\n",
       "              'uid': '6d568d9d-9799-4b9f-8c3d-faa154b8ec54',\n",
       "              'z': {'bdata': 'ZQBuEg==', 'dtype': 'i1', 'shape': '2, 2'},\n",
       "              'zmax': np.int64(110),\n",
       "              'zmin': 0},\n",
       "             {'colorbar': {'len': 1, 'lenmode': 'fraction'},\n",
       "              'colorscale': [[0.0, 'rgb(255,245,235)'], [0.125,\n",
       "                             'rgb(254,230,206)'], [0.25, 'rgb(253,208,162)'],\n",
       "                             [0.375, 'rgb(253,174,107)'], [0.5, 'rgb(253,141,60)'],\n",
       "                             [0.625, 'rgb(241,105,19)'], [0.75, 'rgb(217,72,1)'],\n",
       "                             [0.875, 'rgb(166,54,3)'], [1.0, 'rgb(127,39,4)']],\n",
       "              'hovertemplate': '<b>count: %{z}</b><br>ground_truth: %{y}<br>predictions: %{x}<extra></extra>',\n",
       "              'opacity': 0.25,\n",
       "              'type': 'heatmap',\n",
       "              'uid': '605e322c-b02c-4740-a24e-11c1d1bb7600',\n",
       "              'z': {'bdata': 'ZQBuEg==', 'dtype': 'i1', 'shape': '2, 2'},\n",
       "              'zmax': np.int64(110),\n",
       "              'zmin': 0}],\n",
       "    'layout': {'clickmode': 'event',\n",
       "               'margin': {'b': 0, 'l': 0, 'r': 0, 't': 30},\n",
       "               'template': '...',\n",
       "               'title': {},\n",
       "               'xaxis': {'constrain': 'domain',\n",
       "                         'range': [-0.5, 1.5],\n",
       "                         'tickmode': 'array',\n",
       "                         'ticktext': [ball, (none)],\n",
       "                         'tickvals': {'bdata': 'AAE=', 'dtype': 'i1'}},\n",
       "               'yaxis': {'constrain': 'domain',\n",
       "                         'range': [-0.5, 1.5],\n",
       "                         'scaleanchor': 'x',\n",
       "                         'scaleratio': 1,\n",
       "                         'tickmode': 'array',\n",
       "                         'ticktext': array(['(none)', 'ball'], dtype=object),\n",
       "                         'tickvals': {'bdata': 'AAE=', 'dtype': 'i1'}}}\n",
       "})"
      ]
     },
     "metadata": {},
     "output_type": "display_data"
    },
    {
     "data": {
      "text/plain": []
     },
     "execution_count": 81,
     "metadata": {},
     "output_type": "execute_result"
    }
   ],
   "source": [
    "results = dataset.evaluate_detections(pred_field='predictions', gt_field='ground_truth', compute_mAP=True,)\n",
    "results.print_report()\n",
    "results.plot_confusion_matrix()"
   ]
  },
  {
   "cell_type": "code",
   "execution_count": null,
   "id": "d4f51f2b-0863-453d-8e7b-38b10fd40498",
   "metadata": {},
   "outputs": [],
   "source": []
  }
 ],
 "metadata": {
  "kernelspec": {
   "display_name": "Python 3 (ipykernel)",
   "language": "python",
   "name": "python3"
  },
  "language_info": {
   "codemirror_mode": {
    "name": "ipython",
    "version": 3
   },
   "file_extension": ".py",
   "mimetype": "text/x-python",
   "name": "python",
   "nbconvert_exporter": "python",
   "pygments_lexer": "ipython3",
   "version": "3.13.2"
  }
 },
 "nbformat": 4,
 "nbformat_minor": 5
}
