{
 "cells": [
  {
   "cell_type": "code",
   "execution_count": 1,
   "id": "af290855-9387-4425-b23e-1d7d19788b07",
   "metadata": {},
   "outputs": [],
   "source": [
    "import csv\n",
    "import pandas as pd\n",
    "import os\n",
    "from ultralytics.data.split import autosplit, split_classify_dataset\n",
    "import shutil"
   ]
  },
  {
   "cell_type": "code",
   "execution_count": 2,
   "id": "1ff0fe48-f999-464f-8029-ffafb88d34a0",
   "metadata": {},
   "outputs": [],
   "source": [
    "path_vnl = 'training_data/kaggle_vnl'\n",
    "path_ltv = ''\n",
    "output_path = 'training_data/dataset_detection'\n",
    "classes = ['player', 'referee', 'ball']"
   ]
  },
  {
   "cell_type": "code",
   "execution_count": 11,
   "id": "af6f2a2a-8be3-439c-92ee-1c82490251d0",
   "metadata": {},
   "outputs": [],
   "source": [
    "def change_classes_from_kaggle():\n",
    "    directory = \"training_data/kaggle_vnl_all/labels\"\n",
    "    \n",
    "    for filename in os.listdir(directory):\n",
    "        if filename.endswith(\".txt\"):\n",
    "            filepath = os.path.join(directory, filename)\n",
    "            \n",
    "            new_lines = []\n",
    "            with open(filepath, \"r\") as f:\n",
    "                for line in f:\n",
    "                    parts = line.strip().split()\n",
    "                    if not parts:\n",
    "                        continue  # skip empty lines\n",
    "    \n",
    "                    # Change only the first number (class id)\n",
    "                    if parts[0] == \"0\":\n",
    "                        parts[0] = \"2\"\n",
    "                    elif parts[0] == \"2\":\n",
    "                        parts[0] = \"1\"\n",
    "                    elif parts[0] == \"1\":\n",
    "                        parts[0] = \"1\"  # stays the same\n",
    "    \n",
    "                    new_lines.append(\" \".join(parts))\n",
    "    \n",
    "            # overwrite the file with updated content\n",
    "            with open(filepath, \"w\") as f:\n",
    "                f.write(\"\\n\".join(new_lines) + \"\\n\")"
   ]
  },
  {
   "cell_type": "code",
   "execution_count": 27,
   "id": "a60b6fd2-af11-4344-b614-934111cb4e00",
   "metadata": {},
   "outputs": [],
   "source": [
    "def change_classes_from_yolo():\n",
    "    directory = \"runs/detect/predict9/labels\"\n",
    "    \n",
    "    for filename in os.listdir(directory):\n",
    "        if filename.endswith(\".txt\"):\n",
    "            filepath = os.path.join(directory, filename)\n",
    "            \n",
    "            new_lines = []\n",
    "            with open(filepath, \"r\") as f:\n",
    "                for line in f:\n",
    "                    parts = line.strip().split()\n",
    "                    if not parts:\n",
    "                        continue  # skip empty lines\n",
    "    \n",
    "                    # Change only the first number (class id)\n",
    "                    if parts[0] == \"0\":\n",
    "                        parts[0] = \"1\"\n",
    "                    elif parts[0] == \"32\":\n",
    "                        parts[0] = \"0\"\n",
    "    \n",
    "                    new_lines.append(\" \".join(parts))\n",
    "    \n",
    "            # overwrite the file with updated content\n",
    "            with open(filepath, \"w\") as f:\n",
    "                f.write(\"\\n\".join(new_lines) + \"\\n\")"
   ]
  },
  {
   "cell_type": "code",
   "execution_count": 21,
   "id": "e8f4440a-bb96-4278-b162-ae8aa8153082",
   "metadata": {},
   "outputs": [
    {
     "name": "stdout",
     "output_type": "stream",
     "text": [
      "Autosplitting images from training_data/different_data/all/images\n"
     ]
    },
    {
     "name": "stderr",
     "output_type": "stream",
     "text": [
      "100%|██████████| 189/189 [00:00<00:00, 12678.50it/s]\n"
     ]
    }
   ],
   "source": [
    "autosplit(path='training_data/different_data/all/images', weights=(0.87, 0.1, 0.03))"
   ]
  },
  {
   "cell_type": "code",
   "execution_count": 23,
   "id": "ffeb977f-e58e-46d9-985b-897995ceac69",
   "metadata": {},
   "outputs": [],
   "source": [
    "split_files = [\n",
    "    'different_data/all/autosplit_test.txt',\n",
    "    'different_data/all/autosplit_train.txt',\n",
    "    'different_data/all/autosplit_val.txt'\n",
    "]\n",
    "\n",
    "\n",
    "destination_dir = \"dataset\"\n",
    "\n",
    "def copy_split_files(file, dir):\n",
    "    with open(file, \"r\") as f:\n",
    "        for line in f:\n",
    "            src_path = line.strip()\n",
    "            if not src_path:\n",
    "                continue  # skip empty lines\n",
    "            if not os.path.isfile(src_path):\n",
    "                print(f\"⚠️ File not found: {src_path}\")\n",
    "                continue\n",
    "    \n",
    "            # copy file into destination (keep same filename)\n",
    "            shutil.copy(src_path, dir)\n",
    "            print(f\"✅ Copied: {src_path} -> {destination_dir}\")"
   ]
  },
  {
   "cell_type": "code",
   "execution_count": null,
   "id": "acd973d6-1268-48f1-955e-0bd03fed70c7",
   "metadata": {},
   "outputs": [],
   "source": [
    "copy_split_files(split_files[0])"
   ]
  },
  {
   "cell_type": "code",
   "execution_count": 3,
   "id": "54a4bcba-6c1d-4ddd-805b-d4349c3094c9",
   "metadata": {},
   "outputs": [
    {
     "name": "stdout",
     "output_type": "stream",
     "text": [
      "Splitting training_data/different_data/project-3-at-2025-09-02-21-57-f5ebf23b (2 classes, 1272 images) into 80% train, 20% val...\n",
      "Split complete in training_data/different_data/project-3-at-2025-09-02-21-57-f5ebf23b_split ✅\n"
     ]
    },
    {
     "data": {
      "text/plain": [
       "PosixPath('training_data/different_data/project-3-at-2025-09-02-21-57-f5ebf23b_split')"
      ]
     },
     "execution_count": 3,
     "metadata": {},
     "output_type": "execute_result"
    }
   ],
   "source": [
    "split_classify_dataset('training_data/different_data/project-3-at-2025-09-02-21-57-f5ebf23b', 0.80)"
   ]
  },
  {
   "cell_type": "code",
   "execution_count": 28,
   "id": "5667e2b6-56f7-4903-a3ae-234390f314bb",
   "metadata": {},
   "outputs": [],
   "source": [
    "change_classes_from_yolo()"
   ]
  },
  {
   "cell_type": "code",
   "execution_count": 5,
   "id": "11e97cc0-4053-4fa9-af49-659e39bee040",
   "metadata": {},
   "outputs": [],
   "source": [
    "import os\n",
    "import random\n",
    "import shutil\n",
    "from pathlib import Path\n",
    "import yaml\n",
    "\n",
    "def split_yolo_dataset(\n",
    "    images_dir,\n",
    "    labels_dir,\n",
    "    output_dir,\n",
    "    train_ratio=0.7,\n",
    "    val_ratio=0.2,\n",
    "    seed=42\n",
    "):\n",
    "    \"\"\"\n",
    "    Splits a YOLO-format dataset into train/val/test sets and generates data.yaml.\n",
    "\n",
    "    Args:\n",
    "        images_dir (str): Path to images folder.\n",
    "        labels_dir (str): Path to labels folder.\n",
    "        output_dir (str): Path where split dataset will be saved.\n",
    "        class_names (list): List of class names.\n",
    "        train_ratio (float): Proportion of training set.\n",
    "        val_ratio (float): Proportion of validation set.\n",
    "        test_ratio (float): Proportion of test set.\n",
    "        seed (int): Random seed for reproducibility.\n",
    "    \"\"\"\n",
    "\n",
    "\n",
    "    random.seed(seed)\n",
    "\n",
    "    # Collect all image files\n",
    "    images = [f for f in os.listdir(images_dir) if f.lower().endswith((\".jpg\", \".png\", \".jpeg\"))]\n",
    "    random.shuffle(images)\n",
    "\n",
    "    n_total = len(images)\n",
    "    n_train = int(n_total * train_ratio)\n",
    "    n_val = int(n_total * val_ratio)\n",
    "\n",
    "    train_files = images[:n_train]\n",
    "    val_files = images[n_train:n_train+n_val]\n",
    "\n",
    "\n",
    "    splits = {\"train\": train_files, \"val\": val_files}\n",
    "\n",
    "    # Create output folders\n",
    "    for split in splits.keys():\n",
    "        (Path(output_dir) / \"images\" / split).mkdir(parents=True, exist_ok=True)\n",
    "        (Path(output_dir) / \"labels\" / split).mkdir(parents=True, exist_ok=True)\n",
    "\n",
    "    # Copy files\n",
    "    for split, files in splits.items():\n",
    "        for img_file in files:\n",
    "            # Image\n",
    "            src_img = os.path.join(images_dir, img_file)\n",
    "            dst_img = os.path.join(output_dir, \"images\", split, img_file)\n",
    "            shutil.copy2(src_img, dst_img)\n",
    "\n",
    "            # Label (same name but .txt)\n",
    "            label_file = os.path.splitext(img_file)[0] + \".txt\"\n",
    "            src_label = os.path.join(labels_dir, label_file)\n",
    "            dst_label = os.path.join(output_dir, \"labels\", split, label_file)\n",
    "\n",
    "            if os.path.exists(src_label):\n",
    "                shutil.copy2(src_label, dst_label)\n",
    "            else:\n",
    "                print(f\"⚠️ Warning: missing label for {img_file}\")\n",
    "\n",
    "\n",
    "\n",
    "    print(f\"✅ Split complete: {n_train} train, {len(val_files)} val, {len(test_files)} test.\")\n",
    "\n"
   ]
  },
  {
   "cell_type": "code",
   "execution_count": 7,
   "id": "13ae6778-9774-4845-b948-2f08b69348e7",
   "metadata": {},
   "outputs": [
    {
     "name": "stdout",
     "output_type": "stream",
     "text": [
      "✅ Split complete: 508 train, 127 val, 1 test.\n"
     ]
    }
   ],
   "source": [
    "split_yolo_dataset('datasets/different_data/gala_ball/images', 'datasets/different_data/gala_ball/labels', 'datasets/new2', 0.8, 0.2)"
   ]
  },
  {
   "cell_type": "code",
   "execution_count": 9,
   "id": "da7a0b77-c1eb-407d-afad-ed7c3376d678",
   "metadata": {},
   "outputs": [],
   "source": [
    "import os\n",
    "\n",
    "labels_dir = \"datasets/new2/labels/val\"  # change to val/test as needed\n",
    "num_classes = 3  # must match nc in data.yaml\n",
    "\n",
    "for file in os.listdir(labels_dir):\n",
    "    if file.endswith(\".txt\"):\n",
    "        path = os.path.join(labels_dir, file)\n",
    "        with open(path, \"r\") as f:\n",
    "            for line in f:\n",
    "                parts = line.strip().split()\n",
    "                if len(parts) >= 1:\n",
    "                    try:\n",
    "                        cls = int(float(parts[0]))\n",
    "                        if cls < 0 or cls >= num_classes:\n",
    "                            print(f\"⚠️ Invalid class {cls} in {file}\")\n",
    "                    except ValueError:\n",
    "                        print(f\"⚠️ Non-numeric class in {file}: {line.strip()}\")"
   ]
  },
  {
   "cell_type": "code",
   "execution_count": null,
   "id": "f48dcec5-886e-4499-b458-c22330ad0b26",
   "metadata": {},
   "outputs": [],
   "source": []
  }
 ],
 "metadata": {
  "kernelspec": {
   "display_name": "Python 3 (ipykernel)",
   "language": "python",
   "name": "python3"
  },
  "language_info": {
   "codemirror_mode": {
    "name": "ipython",
    "version": 3
   },
   "file_extension": ".py",
   "mimetype": "text/x-python",
   "name": "python",
   "nbconvert_exporter": "python",
   "pygments_lexer": "ipython3",
   "version": "3.13.2"
  }
 },
 "nbformat": 4,
 "nbformat_minor": 5
}
