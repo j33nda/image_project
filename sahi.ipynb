{
 "cells": [
  {
   "cell_type": "code",
   "execution_count": 1,
   "id": "09cdee8e-14de-41ab-a53d-dd9a8d7568e6",
   "metadata": {},
   "outputs": [],
   "source": [
    "from sahi.models.ultralytics import UltralyticsDetectionModel\n",
    "from sahi.utils.cv import read_image\n",
    "from sahi.utils.file import download_from_url\n",
    "from sahi.predict import get_prediction, get_sliced_prediction, predict\n",
    "from sahi.scripts.coco_evaluation import evaluate\n",
    "from IPython.display import Image\n",
    "import fiftyone as fo"
   ]
  },
  {
   "cell_type": "markdown",
   "id": "56062fb8-5775-463a-a33c-7cf1b15ca66e",
   "metadata": {},
   "source": [
    "### SAHI\n",
    "\n",
    "SAHI is a method to enhance inference of small object in following way: image is split into slices which full cover image, small slices overlap each other. Each slice is then passed to a model, after all slices are processes, conflicting detections in overlaping areas are resolved. In this notebook, model is passed to SAHI an dperformed sliced inference. result is then converted to `fiftyone` format, which can perform validation:"
   ]
  },
  {
   "cell_type": "code",
   "execution_count": 2,
   "id": "3236c147-42ea-40e8-926b-bad4be6ac410",
   "metadata": {},
   "outputs": [
    {
     "name": "stderr",
     "output_type": "stream",
     "text": [
      "/Users/jenda/unive/.venv/lib/python3.13/site-packages/sahi/utils/torch.py:89: UserWarning: 'has_mps' is deprecated, please use 'torch.backends.mps.is_built()'\n",
      "  elif mps and getattr(torch, \"has_mps\", False) and has_torch_mps:  # prefer MPS if available\n"
     ]
    }
   ],
   "source": [
    "NANO = 'gala/train3/'\n",
    "SMALL = 'gala/train2/'\n",
    "NANO_SLICED = 'gala_sliced/train3/'\n",
    "\n",
    "MODELDIR = NANO_SLICED\n",
    "device = 'mps'\n",
    "\n",
    "model = MODELDIR + 'weights/best.pt'\n",
    "image_size = 640 if MODELDIR == NANO_SLICED else 736\n",
    "\n",
    "data = 'datasets/new/images/val/'\n",
    "\n",
    "model_type = 'yolov11'\n",
    "confidence_threshold=0.3\n",
    "slice_height=640\n",
    "slice_width=640\n",
    "overlap_height_ratio=0.15\n",
    "overlap_width_ratio=0.15\n",
    "\n",
    "detection_model = UltralyticsDetectionModel(\n",
    "    model_path=model,\n",
    "    confidence_threshold=confidence_threshold,\n",
    "    device=device,\n",
    "    image_size=image_size\n",
    ")"
   ]
  },
  {
   "cell_type": "code",
   "execution_count": 3,
   "id": "e6f003ca-f784-4695-8610-552bed8f9d0c",
   "metadata": {
    "scrolled": true
   },
   "outputs": [
    {
     "name": "stdout",
     "output_type": "stream",
     "text": [
      "You are running the oldest supported major version of MongoDB. Please refer to https://deprecation.voxel51.com for deprecation notices. You can suppress this exception by setting your `database_validation` config parameter to `False`. See https://docs.voxel51.com/user_guide/config.html#configuring-a-mongodb-connection for more information\n"
     ]
    },
    {
     "name": "stderr",
     "output_type": "stream",
     "text": [
      "09/17/2025 13:09:47 - WARNING - fiftyone.core.odm.database -   You are running the oldest supported major version of MongoDB. Please refer to https://deprecation.voxel51.com for deprecation notices. You can suppress this exception by setting your `database_validation` config parameter to `False`. See https://docs.voxel51.com/user_guide/config.html#configuring-a-mongodb-connection for more information\n"
     ]
    },
    {
     "name": "stdout",
     "output_type": "stream",
     "text": [
      " 100% |█████████████████| 127/127 [92.2ms elapsed, 0s remaining, 1.4K samples/s]   \n"
     ]
    },
    {
     "name": "stderr",
     "output_type": "stream",
     "text": [
      "09/17/2025 13:09:47 - INFO - eta.core.utils -    100% |█████████████████| 127/127 [92.2ms elapsed, 0s remaining, 1.4K samples/s]   \n"
     ]
    }
   ],
   "source": [
    "dataset = fo.Dataset.from_dir(dataset_dir = 'datasets/new/', dataset_type=fo.types.YOLOv5Dataset)"
   ]
  },
  {
   "cell_type": "code",
   "execution_count": 55,
   "id": "06b53f91-9cd2-408d-aff6-0c9e34c2943d",
   "metadata": {
    "scrolled": true
   },
   "outputs": [
    {
     "name": "stdout",
     "output_type": "stream",
     "text": [
      "Performing prediction on 6 slices.\n",
      "Performing prediction on 6 slices.\n",
      "Performing prediction on 6 slices.\n",
      "Performing prediction on 6 slices.\n",
      "Performing prediction on 6 slices.\n",
      "Performing prediction on 6 slices.\n",
      "Performing prediction on 8 slices.\n",
      "Performing prediction on 6 slices.\n",
      "Performing prediction on 6 slices.\n",
      "Performing prediction on 8 slices.\n",
      "Performing prediction on 6 slices.\n",
      "Performing prediction on 8 slices.\n",
      "Performing prediction on 6 slices.\n",
      "Performing prediction on 6 slices.\n",
      "Performing prediction on 6 slices.\n",
      "Performing prediction on 6 slices.\n",
      "Performing prediction on 6 slices.\n",
      "Performing prediction on 6 slices.\n",
      "Performing prediction on 6 slices.\n",
      "Performing prediction on 6 slices.\n",
      "Performing prediction on 6 slices.\n",
      "Performing prediction on 6 slices.\n",
      "Performing prediction on 8 slices.\n",
      "Performing prediction on 6 slices.\n",
      "Performing prediction on 6 slices.\n",
      "Performing prediction on 6 slices.\n",
      "Performing prediction on 6 slices.\n",
      "Performing prediction on 6 slices.\n",
      "Performing prediction on 6 slices.\n",
      "Performing prediction on 6 slices.\n",
      "Performing prediction on 6 slices.\n",
      "Performing prediction on 6 slices.\n",
      "Performing prediction on 6 slices.\n",
      "Performing prediction on 6 slices.\n",
      "Performing prediction on 6 slices.\n",
      "Performing prediction on 6 slices.\n",
      "Performing prediction on 6 slices.\n",
      "Performing prediction on 6 slices.\n",
      "Performing prediction on 6 slices.\n",
      "Performing prediction on 6 slices.\n",
      "Performing prediction on 6 slices.\n",
      "Performing prediction on 8 slices.\n",
      "Performing prediction on 6 slices.\n",
      "Performing prediction on 6 slices.\n",
      "Performing prediction on 6 slices.\n",
      "Performing prediction on 6 slices.\n",
      "Performing prediction on 6 slices.\n",
      "Performing prediction on 6 slices.\n",
      "Performing prediction on 6 slices.\n",
      "Performing prediction on 8 slices.\n",
      "Performing prediction on 6 slices.\n",
      "Performing prediction on 6 slices.\n",
      "Performing prediction on 6 slices.\n",
      "Performing prediction on 6 slices.\n",
      "Performing prediction on 6 slices.\n",
      "Performing prediction on 6 slices.\n",
      "Performing prediction on 6 slices.\n",
      "Performing prediction on 6 slices.\n",
      "Performing prediction on 6 slices.\n",
      "Performing prediction on 6 slices.\n",
      "Performing prediction on 6 slices.\n",
      "Performing prediction on 6 slices.\n",
      "Performing prediction on 8 slices.\n",
      "Performing prediction on 6 slices.\n",
      "Performing prediction on 6 slices.\n",
      "Performing prediction on 6 slices.\n",
      "Performing prediction on 6 slices.\n",
      "Performing prediction on 6 slices.\n",
      "Performing prediction on 6 slices.\n",
      "Performing prediction on 6 slices.\n",
      "Performing prediction on 6 slices.\n",
      "Performing prediction on 6 slices.\n",
      "Performing prediction on 6 slices.\n",
      "Performing prediction on 6 slices.\n",
      "Performing prediction on 6 slices.\n",
      "Performing prediction on 6 slices.\n",
      "Performing prediction on 6 slices.\n",
      "Performing prediction on 6 slices.\n",
      "Performing prediction on 6 slices.\n",
      "Performing prediction on 6 slices.\n",
      "Performing prediction on 6 slices.\n",
      "Performing prediction on 6 slices.\n",
      "Performing prediction on 6 slices.\n",
      "Performing prediction on 6 slices.\n",
      "Performing prediction on 8 slices.\n",
      "Performing prediction on 6 slices.\n",
      "Performing prediction on 6 slices.\n",
      "Performing prediction on 6 slices.\n",
      "Performing prediction on 6 slices.\n",
      "Performing prediction on 8 slices.\n",
      "Performing prediction on 6 slices.\n",
      "Performing prediction on 6 slices.\n",
      "Performing prediction on 6 slices.\n",
      "Performing prediction on 6 slices.\n",
      "Performing prediction on 6 slices.\n",
      "Performing prediction on 6 slices.\n",
      "Performing prediction on 6 slices.\n",
      "Performing prediction on 6 slices.\n",
      "Performing prediction on 6 slices.\n",
      "Performing prediction on 6 slices.\n",
      "Performing prediction on 6 slices.\n",
      "Performing prediction on 6 slices.\n",
      "Performing prediction on 6 slices.\n",
      "Performing prediction on 6 slices.\n",
      "Performing prediction on 8 slices.\n",
      "Performing prediction on 6 slices.\n",
      "Performing prediction on 6 slices.\n",
      "Performing prediction on 6 slices.\n",
      "Performing prediction on 6 slices.\n",
      "Performing prediction on 6 slices.\n",
      "Performing prediction on 6 slices.\n",
      "Performing prediction on 8 slices.\n",
      "Performing prediction on 6 slices.\n",
      "Performing prediction on 6 slices.\n",
      "Performing prediction on 6 slices.\n",
      "Performing prediction on 6 slices.\n",
      "Performing prediction on 6 slices.\n",
      "Performing prediction on 6 slices.\n",
      "Performing prediction on 6 slices.\n",
      "Performing prediction on 6 slices.\n",
      "Performing prediction on 6 slices.\n",
      "Performing prediction on 6 slices.\n",
      "Performing prediction on 8 slices.\n",
      "Performing prediction on 6 slices.\n",
      "Performing prediction on 6 slices.\n",
      "Performing prediction on 6 slices.\n",
      "Performing prediction on 6 slices.\n"
     ]
    }
   ],
   "source": [
    "for sample in dataset:\n",
    "    pred = get_sliced_prediction(\n",
    "        sample.filepath,\n",
    "        detection_model,\n",
    "        slice_height = slice_height,\n",
    "        slice_width = slice_width,\n",
    "        overlap_height_ratio = overlap_height_ratio,\n",
    "        overlap_width_ratio = overlap_width_ratio\n",
    "    )\n",
    "    detections =  pred.to_fiftyone_detections()\n",
    "    sample['predictions'] = fo.Detections(detections = detections)\n",
    "    sample.save()"
   ]
  },
  {
   "cell_type": "code",
   "execution_count": 57,
   "id": "20d2e064-c2cf-4960-95d7-cadec00415bc",
   "metadata": {
    "scrolled": true
   },
   "outputs": [
    {
     "name": "stdout",
     "output_type": "stream",
     "text": [
      "Evaluating detections...\n"
     ]
    },
    {
     "name": "stderr",
     "output_type": "stream",
     "text": [
      "09/16/2025 23:24:54 - INFO - fiftyone.utils.eval.detection -   Evaluating detections...\n"
     ]
    },
    {
     "name": "stdout",
     "output_type": "stream",
     "text": [
      " 100% |█████████████████| 127/127 [136.3ms elapsed, 0s remaining, 931.5 samples/s]     \n"
     ]
    },
    {
     "name": "stderr",
     "output_type": "stream",
     "text": [
      "09/16/2025 23:24:54 - INFO - eta.core.utils -    100% |█████████████████| 127/127 [136.3ms elapsed, 0s remaining, 931.5 samples/s]     \n"
     ]
    },
    {
     "name": "stdout",
     "output_type": "stream",
     "text": [
      "Performing IoU sweep...\n"
     ]
    },
    {
     "name": "stderr",
     "output_type": "stream",
     "text": [
      "09/16/2025 23:24:54 - INFO - fiftyone.utils.eval.coco -   Performing IoU sweep...\n"
     ]
    },
    {
     "name": "stdout",
     "output_type": "stream",
     "text": [
      " 100% |█████████████████| 127/127 [156.6ms elapsed, 0s remaining, 811.2 samples/s]     \n"
     ]
    },
    {
     "name": "stderr",
     "output_type": "stream",
     "text": [
      "09/16/2025 23:24:54 - INFO - eta.core.utils -    100% |█████████████████| 127/127 [156.6ms elapsed, 0s remaining, 811.2 samples/s]     \n"
     ]
    },
    {
     "name": "stdout",
     "output_type": "stream",
     "text": [
      "              precision    recall  f1-score   support\n",
      "\n",
      "        ball       0.69      0.78      0.74       128\n",
      "\n",
      "   micro avg       0.69      0.78      0.74       128\n",
      "   macro avg       0.69      0.78      0.74       128\n",
      "weighted avg       0.69      0.78      0.74       128\n",
      "\n"
     ]
    }
   ],
   "source": [
    "results = dataset.evaluate_detections(pred_field='predictions', gt_field='ground_truth', compute_mAP=True,)\n",
    "results.print_report()"
   ]
  },
  {
   "cell_type": "code",
   "execution_count": 58,
   "id": "3db83dcd-bbaf-465a-9006-dc1820845358",
   "metadata": {
    "scrolled": true
   },
   "outputs": [
    {
     "name": "stderr",
     "output_type": "stream",
     "text": [
      "/Users/jenda/unive/.venv/lib/python3.13/site-packages/sahi/utils/torch.py:89: UserWarning:\n",
      "\n",
      "'has_mps' is deprecated, please use 'torch.backends.mps.is_built()'\n",
      "\n"
     ]
    },
    {
     "name": "stdout",
     "output_type": "stream",
     "text": [
      "There are 231 listed files in folder: clip_mobil/\n"
     ]
    },
    {
     "name": "stderr",
     "output_type": "stream",
     "text": [
      "Performing inference on images:   0%|                                                                 | 0/231 [00:00<?, ?it/s]"
     ]
    },
    {
     "name": "stdout",
     "output_type": "stream",
     "text": [
      "Performing prediction on 8 slices.\n"
     ]
    },
    {
     "name": "stderr",
     "output_type": "stream",
     "text": [
      "Performing inference on images:   0%|▏                                                        | 1/231 [00:00<02:56,  1.30it/s]"
     ]
    },
    {
     "name": "stdout",
     "output_type": "stream",
     "text": [
      "Prediction time is: 688.54 ms\n",
      "Performing prediction on 8 slices.\n"
     ]
    },
    {
     "name": "stderr",
     "output_type": "stream",
     "text": [
      "Performing inference on images:   1%|▍                                                        | 2/231 [00:01<02:17,  1.67it/s]"
     ]
    },
    {
     "name": "stdout",
     "output_type": "stream",
     "text": [
      "Prediction time is: 399.67 ms\n",
      "Performing prediction on 8 slices.\n"
     ]
    },
    {
     "name": "stderr",
     "output_type": "stream",
     "text": [
      "Performing inference on images:   1%|▋                                                        | 3/231 [00:01<01:58,  1.92it/s]"
     ]
    },
    {
     "name": "stdout",
     "output_type": "stream",
     "text": [
      "Prediction time is: 342.54 ms\n",
      "Performing prediction on 8 slices.\n"
     ]
    },
    {
     "name": "stderr",
     "output_type": "stream",
     "text": [
      "Performing inference on images:   2%|▉                                                        | 4/231 [00:02<01:51,  2.04it/s]"
     ]
    },
    {
     "name": "stdout",
     "output_type": "stream",
     "text": [
      "Prediction time is: 367.97 ms\n",
      "Performing prediction on 8 slices.\n"
     ]
    },
    {
     "name": "stderr",
     "output_type": "stream",
     "text": [
      "Performing inference on images:   2%|█▏                                                       | 5/231 [00:02<01:44,  2.16it/s]"
     ]
    },
    {
     "name": "stdout",
     "output_type": "stream",
     "text": [
      "Prediction time is: 335.38 ms\n",
      "Performing prediction on 8 slices.\n"
     ]
    },
    {
     "name": "stderr",
     "output_type": "stream",
     "text": [
      "Performing inference on images:   3%|█▍                                                       | 6/231 [00:03<01:42,  2.19it/s]"
     ]
    },
    {
     "name": "stdout",
     "output_type": "stream",
     "text": [
      "Prediction time is: 367.53 ms\n",
      "Performing prediction on 8 slices.\n"
     ]
    },
    {
     "name": "stderr",
     "output_type": "stream",
     "text": [
      "Performing inference on images:   3%|█▋                                                       | 7/231 [00:03<01:44,  2.13it/s]"
     ]
    },
    {
     "name": "stdout",
     "output_type": "stream",
     "text": [
      "Prediction time is: 405.03 ms\n",
      "Performing prediction on 8 slices.\n"
     ]
    },
    {
     "name": "stderr",
     "output_type": "stream",
     "text": [
      "Performing inference on images:   3%|█▉                                                       | 8/231 [00:03<01:42,  2.17it/s]"
     ]
    },
    {
     "name": "stdout",
     "output_type": "stream",
     "text": [
      "Prediction time is: 367.74 ms\n",
      "Performing prediction on 8 slices.\n"
     ]
    },
    {
     "name": "stderr",
     "output_type": "stream",
     "text": [
      "Performing inference on images:   4%|██▏                                                      | 9/231 [00:04<01:43,  2.15it/s]"
     ]
    },
    {
     "name": "stdout",
     "output_type": "stream",
     "text": [
      "Prediction time is: 392.90 ms\n",
      "Performing prediction on 8 slices.\n"
     ]
    },
    {
     "name": "stderr",
     "output_type": "stream",
     "text": [
      "Performing inference on images:   4%|██▍                                                     | 10/231 [00:04<01:41,  2.18it/s]"
     ]
    },
    {
     "name": "stdout",
     "output_type": "stream",
     "text": [
      "Prediction time is: 366.83 ms\n",
      "Performing prediction on 8 slices.\n"
     ]
    },
    {
     "name": "stderr",
     "output_type": "stream",
     "text": [
      "Performing inference on images:   5%|██▋                                                     | 11/231 [00:05<01:41,  2.17it/s]"
     ]
    },
    {
     "name": "stdout",
     "output_type": "stream",
     "text": [
      "Prediction time is: 383.25 ms\n",
      "Performing prediction on 8 slices.\n"
     ]
    },
    {
     "name": "stderr",
     "output_type": "stream",
     "text": [
      "Performing inference on images:   5%|██▉                                                     | 12/231 [00:05<01:41,  2.16it/s]"
     ]
    },
    {
     "name": "stdout",
     "output_type": "stream",
     "text": [
      "Prediction time is: 395.40 ms\n",
      "Performing prediction on 8 slices.\n"
     ]
    },
    {
     "name": "stderr",
     "output_type": "stream",
     "text": [
      "Performing inference on images:   6%|███▏                                                    | 13/231 [00:06<01:41,  2.16it/s]"
     ]
    },
    {
     "name": "stdout",
     "output_type": "stream",
     "text": [
      "Prediction time is: 382.19 ms\n",
      "Performing prediction on 8 slices.\n"
     ]
    },
    {
     "name": "stderr",
     "output_type": "stream",
     "text": [
      "Performing inference on images:   6%|███▍                                                    | 14/231 [00:06<01:39,  2.19it/s]"
     ]
    },
    {
     "name": "stdout",
     "output_type": "stream",
     "text": [
      "Prediction time is: 362.52 ms\n",
      "Performing prediction on 8 slices.\n"
     ]
    },
    {
     "name": "stderr",
     "output_type": "stream",
     "text": [
      "Performing inference on images:   6%|███▋                                                    | 15/231 [00:07<01:39,  2.17it/s]"
     ]
    },
    {
     "name": "stdout",
     "output_type": "stream",
     "text": [
      "Prediction time is: 386.73 ms\n",
      "Performing prediction on 8 slices.\n"
     ]
    },
    {
     "name": "stderr",
     "output_type": "stream",
     "text": [
      "Performing inference on images:   7%|███▉                                                    | 16/231 [00:07<01:40,  2.13it/s]"
     ]
    },
    {
     "name": "stdout",
     "output_type": "stream",
     "text": [
      "Prediction time is: 405.94 ms\n",
      "Performing prediction on 8 slices.\n"
     ]
    },
    {
     "name": "stderr",
     "output_type": "stream",
     "text": [
      "Performing inference on images:   7%|████                                                    | 17/231 [00:08<01:38,  2.17it/s]"
     ]
    },
    {
     "name": "stdout",
     "output_type": "stream",
     "text": [
      "Prediction time is: 369.26 ms\n",
      "Performing prediction on 8 slices.\n"
     ]
    },
    {
     "name": "stderr",
     "output_type": "stream",
     "text": [
      "Performing inference on images:   8%|████▎                                                   | 18/231 [00:08<01:36,  2.21it/s]"
     ]
    },
    {
     "name": "stdout",
     "output_type": "stream",
     "text": [
      "Prediction time is: 357.94 ms\n",
      "Performing prediction on 8 slices.\n"
     ]
    },
    {
     "name": "stderr",
     "output_type": "stream",
     "text": [
      "Performing inference on images:   8%|████▌                                                   | 19/231 [00:08<01:34,  2.24it/s]"
     ]
    },
    {
     "name": "stdout",
     "output_type": "stream",
     "text": [
      "Prediction time is: 348.39 ms\n",
      "Performing prediction on 8 slices.\n"
     ]
    },
    {
     "name": "stderr",
     "output_type": "stream",
     "text": [
      "Performing inference on images:   9%|████▊                                                   | 20/231 [00:09<01:34,  2.24it/s]"
     ]
    },
    {
     "name": "stdout",
     "output_type": "stream",
     "text": [
      "Prediction time is: 371.19 ms\n",
      "Performing prediction on 8 slices.\n"
     ]
    },
    {
     "name": "stderr",
     "output_type": "stream",
     "text": [
      "Performing inference on images:   9%|█████                                                   | 21/231 [00:09<01:32,  2.26it/s]"
     ]
    },
    {
     "name": "stdout",
     "output_type": "stream",
     "text": [
      "Prediction time is: 356.63 ms\n",
      "Performing prediction on 8 slices.\n"
     ]
    },
    {
     "name": "stderr",
     "output_type": "stream",
     "text": [
      "Performing inference on images:  10%|█████▎                                                  | 22/231 [00:10<01:32,  2.26it/s]"
     ]
    },
    {
     "name": "stdout",
     "output_type": "stream",
     "text": [
      "Prediction time is: 364.75 ms\n",
      "Performing prediction on 8 slices.\n"
     ]
    },
    {
     "name": "stderr",
     "output_type": "stream",
     "text": [
      "Performing inference on images:  10%|█████▌                                                  | 23/231 [00:10<01:30,  2.29it/s]"
     ]
    },
    {
     "name": "stdout",
     "output_type": "stream",
     "text": [
      "Prediction time is: 335.49 ms\n",
      "Performing prediction on 8 slices.\n"
     ]
    },
    {
     "name": "stderr",
     "output_type": "stream",
     "text": [
      "Performing inference on images:  10%|█████▊                                                  | 24/231 [00:11<01:29,  2.32it/s]"
     ]
    },
    {
     "name": "stdout",
     "output_type": "stream",
     "text": [
      "Prediction time is: 339.79 ms\n",
      "Performing prediction on 8 slices.\n"
     ]
    },
    {
     "name": "stderr",
     "output_type": "stream",
     "text": [
      "Performing inference on images:  11%|██████                                                  | 25/231 [00:11<01:28,  2.32it/s]"
     ]
    },
    {
     "name": "stdout",
     "output_type": "stream",
     "text": [
      "Prediction time is: 356.25 ms\n",
      "Performing prediction on 8 slices.\n"
     ]
    },
    {
     "name": "stderr",
     "output_type": "stream",
     "text": [
      "Performing inference on images:  11%|██████▎                                                 | 26/231 [00:11<01:28,  2.33it/s]"
     ]
    },
    {
     "name": "stdout",
     "output_type": "stream",
     "text": [
      "Prediction time is: 349.60 ms\n",
      "Performing prediction on 8 slices.\n"
     ]
    },
    {
     "name": "stderr",
     "output_type": "stream",
     "text": [
      "Performing inference on images:  12%|██████▌                                                 | 27/231 [00:12<01:27,  2.33it/s]"
     ]
    },
    {
     "name": "stdout",
     "output_type": "stream",
     "text": [
      "Prediction time is: 353.81 ms\n",
      "Performing prediction on 8 slices.\n"
     ]
    },
    {
     "name": "stderr",
     "output_type": "stream",
     "text": [
      "Performing inference on images:  12%|██████▊                                                 | 28/231 [00:12<01:27,  2.33it/s]"
     ]
    },
    {
     "name": "stdout",
     "output_type": "stream",
     "text": [
      "Prediction time is: 350.84 ms\n",
      "Performing prediction on 8 slices.\n"
     ]
    },
    {
     "name": "stderr",
     "output_type": "stream",
     "text": [
      "Performing inference on images:  13%|███████                                                 | 29/231 [00:13<01:27,  2.32it/s]"
     ]
    },
    {
     "name": "stdout",
     "output_type": "stream",
     "text": [
      "Prediction time is: 359.55 ms\n",
      "Performing prediction on 8 slices.\n"
     ]
    },
    {
     "name": "stderr",
     "output_type": "stream",
     "text": [
      "Performing inference on images:  13%|███████▎                                                | 30/231 [00:13<01:26,  2.32it/s]"
     ]
    },
    {
     "name": "stdout",
     "output_type": "stream",
     "text": [
      "Prediction time is: 353.17 ms\n",
      "Performing prediction on 8 slices.\n"
     ]
    },
    {
     "name": "stderr",
     "output_type": "stream",
     "text": [
      "Performing inference on images:  13%|███████▌                                                | 31/231 [00:14<01:25,  2.34it/s]"
     ]
    },
    {
     "name": "stdout",
     "output_type": "stream",
     "text": [
      "Prediction time is: 343.59 ms\n",
      "Performing prediction on 8 slices.\n"
     ]
    },
    {
     "name": "stderr",
     "output_type": "stream",
     "text": [
      "Performing inference on images:  14%|███████▊                                                | 32/231 [00:14<01:25,  2.33it/s]"
     ]
    },
    {
     "name": "stdout",
     "output_type": "stream",
     "text": [
      "Prediction time is: 349.94 ms\n",
      "Performing prediction on 8 slices.\n"
     ]
    },
    {
     "name": "stderr",
     "output_type": "stream",
     "text": [
      "Performing inference on images:  14%|████████                                                | 33/231 [00:14<01:25,  2.32it/s]"
     ]
    },
    {
     "name": "stdout",
     "output_type": "stream",
     "text": [
      "Prediction time is: 354.66 ms\n",
      "Performing prediction on 8 slices.\n"
     ]
    },
    {
     "name": "stderr",
     "output_type": "stream",
     "text": [
      "Performing inference on images:  15%|████████▏                                               | 34/231 [00:15<01:25,  2.31it/s]"
     ]
    },
    {
     "name": "stdout",
     "output_type": "stream",
     "text": [
      "Prediction time is: 358.76 ms\n",
      "Performing prediction on 8 slices.\n"
     ]
    },
    {
     "name": "stderr",
     "output_type": "stream",
     "text": [
      "Performing inference on images:  15%|████████▍                                               | 35/231 [00:15<01:24,  2.31it/s]"
     ]
    },
    {
     "name": "stdout",
     "output_type": "stream",
     "text": [
      "Prediction time is: 355.49 ms\n",
      "Performing prediction on 8 slices.\n"
     ]
    },
    {
     "name": "stderr",
     "output_type": "stream",
     "text": [
      "Performing inference on images:  16%|████████▋                                               | 36/231 [00:16<01:25,  2.29it/s]"
     ]
    },
    {
     "name": "stdout",
     "output_type": "stream",
     "text": [
      "Prediction time is: 365.62 ms\n",
      "Performing prediction on 8 slices.\n"
     ]
    },
    {
     "name": "stderr",
     "output_type": "stream",
     "text": [
      "Performing inference on images:  16%|████████▉                                               | 37/231 [00:16<01:33,  2.08it/s]"
     ]
    },
    {
     "name": "stdout",
     "output_type": "stream",
     "text": [
      "Prediction time is: 507.29 ms\n",
      "Performing prediction on 8 slices.\n"
     ]
    },
    {
     "name": "stderr",
     "output_type": "stream",
     "text": [
      "Performing inference on images:  16%|█████████▏                                              | 38/231 [00:17<01:30,  2.14it/s]"
     ]
    },
    {
     "name": "stdout",
     "output_type": "stream",
     "text": [
      "Prediction time is: 351.06 ms\n",
      "Performing prediction on 8 slices.\n"
     ]
    },
    {
     "name": "stderr",
     "output_type": "stream",
     "text": [
      "Performing inference on images:  17%|█████████▍                                              | 39/231 [00:17<01:27,  2.19it/s]"
     ]
    },
    {
     "name": "stdout",
     "output_type": "stream",
     "text": [
      "Prediction time is: 353.59 ms\n",
      "Performing prediction on 8 slices.\n"
     ]
    },
    {
     "name": "stderr",
     "output_type": "stream",
     "text": [
      "Performing inference on images:  17%|█████████▋                                              | 40/231 [00:18<01:27,  2.18it/s]"
     ]
    },
    {
     "name": "stdout",
     "output_type": "stream",
     "text": [
      "Prediction time is: 380.05 ms\n",
      "Performing prediction on 8 slices.\n"
     ]
    },
    {
     "name": "stderr",
     "output_type": "stream",
     "text": [
      "Performing inference on images:  18%|█████████▉                                              | 41/231 [00:18<01:26,  2.20it/s]"
     ]
    },
    {
     "name": "stdout",
     "output_type": "stream",
     "text": [
      "Prediction time is: 367.06 ms\n",
      "Performing prediction on 8 slices.\n"
     ]
    },
    {
     "name": "stderr",
     "output_type": "stream",
     "text": [
      "Performing inference on images:  18%|██████████▏                                             | 42/231 [00:19<01:26,  2.18it/s]"
     ]
    },
    {
     "name": "stdout",
     "output_type": "stream",
     "text": [
      "Prediction time is: 382.13 ms\n",
      "Performing prediction on 8 slices.\n"
     ]
    },
    {
     "name": "stderr",
     "output_type": "stream",
     "text": [
      "Performing inference on images:  19%|██████████▍                                             | 43/231 [00:19<01:25,  2.20it/s]"
     ]
    },
    {
     "name": "stdout",
     "output_type": "stream",
     "text": [
      "Prediction time is: 362.20 ms\n",
      "Performing prediction on 8 slices.\n"
     ]
    },
    {
     "name": "stderr",
     "output_type": "stream",
     "text": [
      "Performing inference on images:  19%|██████████▋                                             | 44/231 [00:20<01:23,  2.24it/s]"
     ]
    },
    {
     "name": "stdout",
     "output_type": "stream",
     "text": [
      "Prediction time is: 345.99 ms\n",
      "Performing prediction on 8 slices.\n"
     ]
    },
    {
     "name": "stderr",
     "output_type": "stream",
     "text": [
      "Performing inference on images:  19%|██████████▉                                             | 45/231 [00:20<01:25,  2.18it/s]"
     ]
    },
    {
     "name": "stdout",
     "output_type": "stream",
     "text": [
      "Prediction time is: 381.02 ms\n",
      "Performing prediction on 8 slices.\n"
     ]
    },
    {
     "name": "stderr",
     "output_type": "stream",
     "text": [
      "Performing inference on images:  20%|███████████▏                                            | 46/231 [00:20<01:24,  2.18it/s]"
     ]
    },
    {
     "name": "stdout",
     "output_type": "stream",
     "text": [
      "Prediction time is: 377.06 ms\n",
      "Performing prediction on 8 slices.\n"
     ]
    },
    {
     "name": "stderr",
     "output_type": "stream",
     "text": [
      "Performing inference on images:  20%|███████████▍                                            | 47/231 [00:21<01:22,  2.23it/s]"
     ]
    },
    {
     "name": "stdout",
     "output_type": "stream",
     "text": [
      "Prediction time is: 348.53 ms\n",
      "Performing prediction on 8 slices.\n"
     ]
    },
    {
     "name": "stderr",
     "output_type": "stream",
     "text": [
      "Performing inference on images:  21%|███████████▋                                            | 48/231 [00:21<01:19,  2.31it/s]"
     ]
    },
    {
     "name": "stdout",
     "output_type": "stream",
     "text": [
      "Prediction time is: 328.36 ms\n",
      "Performing prediction on 8 slices.\n"
     ]
    },
    {
     "name": "stderr",
     "output_type": "stream",
     "text": [
      "Performing inference on images:  21%|███████████▉                                            | 49/231 [00:22<01:18,  2.30it/s]"
     ]
    },
    {
     "name": "stdout",
     "output_type": "stream",
     "text": [
      "Prediction time is: 358.63 ms\n",
      "Performing prediction on 8 slices.\n"
     ]
    },
    {
     "name": "stderr",
     "output_type": "stream",
     "text": [
      "Performing inference on images:  22%|████████████                                            | 50/231 [00:22<01:18,  2.30it/s]"
     ]
    },
    {
     "name": "stdout",
     "output_type": "stream",
     "text": [
      "Prediction time is: 359.43 ms\n",
      "Performing prediction on 8 slices.\n"
     ]
    },
    {
     "name": "stderr",
     "output_type": "stream",
     "text": [
      "Performing inference on images:  22%|████████████▎                                           | 51/231 [00:23<01:16,  2.34it/s]"
     ]
    },
    {
     "name": "stdout",
     "output_type": "stream",
     "text": [
      "Prediction time is: 333.82 ms\n",
      "Performing prediction on 8 slices.\n"
     ]
    },
    {
     "name": "stderr",
     "output_type": "stream",
     "text": [
      "Performing inference on images:  23%|████████████▌                                           | 52/231 [00:23<01:15,  2.36it/s]"
     ]
    },
    {
     "name": "stdout",
     "output_type": "stream",
     "text": [
      "Prediction time is: 338.17 ms\n",
      "Performing prediction on 8 slices.\n"
     ]
    },
    {
     "name": "stderr",
     "output_type": "stream",
     "text": [
      "Performing inference on images:  23%|████████████▊                                           | 53/231 [00:23<01:15,  2.37it/s]"
     ]
    },
    {
     "name": "stdout",
     "output_type": "stream",
     "text": [
      "Prediction time is: 343.81 ms\n",
      "Performing prediction on 8 slices.\n"
     ]
    },
    {
     "name": "stderr",
     "output_type": "stream",
     "text": [
      "Performing inference on images:  23%|█████████████                                           | 54/231 [00:24<01:14,  2.37it/s]"
     ]
    },
    {
     "name": "stdout",
     "output_type": "stream",
     "text": [
      "Prediction time is: 348.63 ms\n",
      "Performing prediction on 8 slices.\n"
     ]
    },
    {
     "name": "stderr",
     "output_type": "stream",
     "text": [
      "Performing inference on images:  24%|█████████████▎                                          | 55/231 [00:24<01:13,  2.38it/s]"
     ]
    },
    {
     "name": "stdout",
     "output_type": "stream",
     "text": [
      "Prediction time is: 335.03 ms\n",
      "Performing prediction on 8 slices.\n"
     ]
    },
    {
     "name": "stderr",
     "output_type": "stream",
     "text": [
      "Performing inference on images:  24%|█████████████▌                                          | 56/231 [00:25<01:14,  2.33it/s]"
     ]
    },
    {
     "name": "stdout",
     "output_type": "stream",
     "text": [
      "Prediction time is: 370.55 ms\n",
      "Performing prediction on 8 slices.\n"
     ]
    },
    {
     "name": "stderr",
     "output_type": "stream",
     "text": [
      "Performing inference on images:  25%|█████████████▊                                          | 57/231 [00:25<01:14,  2.34it/s]"
     ]
    },
    {
     "name": "stdout",
     "output_type": "stream",
     "text": [
      "Prediction time is: 344.86 ms\n",
      "Performing prediction on 8 slices.\n"
     ]
    },
    {
     "name": "stderr",
     "output_type": "stream",
     "text": [
      "Performing inference on images:  25%|██████████████                                          | 58/231 [00:26<01:12,  2.38it/s]"
     ]
    },
    {
     "name": "stdout",
     "output_type": "stream",
     "text": [
      "Prediction time is: 328.98 ms\n",
      "Performing prediction on 8 slices.\n"
     ]
    },
    {
     "name": "stderr",
     "output_type": "stream",
     "text": [
      "Performing inference on images:  26%|██████████████▎                                         | 59/231 [00:26<01:13,  2.33it/s]"
     ]
    },
    {
     "name": "stdout",
     "output_type": "stream",
     "text": [
      "Prediction time is: 370.51 ms\n",
      "Performing prediction on 8 slices.\n"
     ]
    },
    {
     "name": "stderr",
     "output_type": "stream",
     "text": [
      "Performing inference on images:  26%|██████████████▌                                         | 60/231 [00:26<01:13,  2.33it/s]"
     ]
    },
    {
     "name": "stdout",
     "output_type": "stream",
     "text": [
      "Prediction time is: 349.21 ms\n",
      "Performing prediction on 8 slices.\n"
     ]
    },
    {
     "name": "stderr",
     "output_type": "stream",
     "text": [
      "Performing inference on images:  26%|██████████████▊                                         | 61/231 [00:27<01:11,  2.39it/s]"
     ]
    },
    {
     "name": "stdout",
     "output_type": "stream",
     "text": [
      "Prediction time is: 322.18 ms\n",
      "Performing prediction on 8 slices.\n"
     ]
    },
    {
     "name": "stderr",
     "output_type": "stream",
     "text": [
      "Performing inference on images:  27%|███████████████                                         | 62/231 [00:27<01:10,  2.40it/s]"
     ]
    },
    {
     "name": "stdout",
     "output_type": "stream",
     "text": [
      "Prediction time is: 330.73 ms\n",
      "Performing prediction on 8 slices.\n"
     ]
    },
    {
     "name": "stderr",
     "output_type": "stream",
     "text": [
      "Performing inference on images:  27%|███████████████▎                                        | 63/231 [00:28<01:13,  2.30it/s]"
     ]
    },
    {
     "name": "stdout",
     "output_type": "stream",
     "text": [
      "Prediction time is: 393.77 ms\n",
      "Performing prediction on 8 slices.\n"
     ]
    },
    {
     "name": "stderr",
     "output_type": "stream",
     "text": [
      "Performing inference on images:  28%|███████████████▌                                        | 64/231 [00:28<01:12,  2.31it/s]"
     ]
    },
    {
     "name": "stdout",
     "output_type": "stream",
     "text": [
      "Prediction time is: 348.64 ms\n",
      "Performing prediction on 8 slices.\n"
     ]
    },
    {
     "name": "stderr",
     "output_type": "stream",
     "text": [
      "Performing inference on images:  28%|███████████████▊                                        | 65/231 [00:29<01:10,  2.34it/s]"
     ]
    },
    {
     "name": "stdout",
     "output_type": "stream",
     "text": [
      "Prediction time is: 338.87 ms\n",
      "Performing prediction on 8 slices.\n"
     ]
    },
    {
     "name": "stderr",
     "output_type": "stream",
     "text": [
      "Performing inference on images:  29%|████████████████                                        | 66/231 [00:29<01:09,  2.36it/s]"
     ]
    },
    {
     "name": "stdout",
     "output_type": "stream",
     "text": [
      "Prediction time is: 339.37 ms\n",
      "Performing prediction on 8 slices.\n"
     ]
    },
    {
     "name": "stderr",
     "output_type": "stream",
     "text": [
      "Performing inference on images:  29%|████████████████▏                                       | 67/231 [00:29<01:09,  2.35it/s]"
     ]
    },
    {
     "name": "stdout",
     "output_type": "stream",
     "text": [
      "Prediction time is: 351.87 ms\n",
      "Performing prediction on 8 slices.\n"
     ]
    },
    {
     "name": "stderr",
     "output_type": "stream",
     "text": [
      "Performing inference on images:  29%|████████████████▍                                       | 68/231 [00:30<01:10,  2.32it/s]"
     ]
    },
    {
     "name": "stdout",
     "output_type": "stream",
     "text": [
      "Prediction time is: 362.75 ms\n",
      "Performing prediction on 8 slices.\n"
     ]
    },
    {
     "name": "stderr",
     "output_type": "stream",
     "text": [
      "Performing inference on images:  30%|████████████████▋                                       | 69/231 [00:30<01:10,  2.30it/s]"
     ]
    },
    {
     "name": "stdout",
     "output_type": "stream",
     "text": [
      "Prediction time is: 368.97 ms\n",
      "Performing prediction on 8 slices.\n"
     ]
    },
    {
     "name": "stderr",
     "output_type": "stream",
     "text": [
      "Performing inference on images:  30%|████████████████▉                                       | 70/231 [00:31<01:11,  2.26it/s]"
     ]
    },
    {
     "name": "stdout",
     "output_type": "stream",
     "text": [
      "Prediction time is: 374.08 ms\n",
      "Performing prediction on 8 slices.\n"
     ]
    },
    {
     "name": "stderr",
     "output_type": "stream",
     "text": [
      "Performing inference on images:  31%|█████████████████▏                                      | 71/231 [00:31<01:12,  2.21it/s]"
     ]
    },
    {
     "name": "stdout",
     "output_type": "stream",
     "text": [
      "Prediction time is: 401.64 ms\n",
      "Performing prediction on 8 slices.\n"
     ]
    },
    {
     "name": "stderr",
     "output_type": "stream",
     "text": [
      "Performing inference on images:  31%|█████████████████▍                                      | 72/231 [00:32<01:11,  2.24it/s]"
     ]
    },
    {
     "name": "stdout",
     "output_type": "stream",
     "text": [
      "Prediction time is: 356.02 ms\n",
      "Performing prediction on 8 slices.\n"
     ]
    },
    {
     "name": "stderr",
     "output_type": "stream",
     "text": [
      "Performing inference on images:  32%|█████████████████▋                                      | 73/231 [00:32<01:09,  2.26it/s]"
     ]
    },
    {
     "name": "stdout",
     "output_type": "stream",
     "text": [
      "Prediction time is: 352.37 ms\n",
      "Performing prediction on 8 slices.\n"
     ]
    },
    {
     "name": "stderr",
     "output_type": "stream",
     "text": [
      "Performing inference on images:  32%|█████████████████▉                                      | 74/231 [00:32<01:09,  2.26it/s]"
     ]
    },
    {
     "name": "stdout",
     "output_type": "stream",
     "text": [
      "Prediction time is: 364.48 ms\n",
      "Performing prediction on 8 slices.\n"
     ]
    },
    {
     "name": "stderr",
     "output_type": "stream",
     "text": [
      "Performing inference on images:  32%|██████████████████▏                                     | 75/231 [00:33<01:07,  2.30it/s]"
     ]
    },
    {
     "name": "stdout",
     "output_type": "stream",
     "text": [
      "Prediction time is: 338.23 ms\n",
      "Performing prediction on 8 slices.\n"
     ]
    },
    {
     "name": "stderr",
     "output_type": "stream",
     "text": [
      "Performing inference on images:  33%|██████████████████▍                                     | 76/231 [00:33<01:06,  2.32it/s]"
     ]
    },
    {
     "name": "stdout",
     "output_type": "stream",
     "text": [
      "Prediction time is: 340.43 ms\n",
      "Performing prediction on 8 slices.\n"
     ]
    },
    {
     "name": "stderr",
     "output_type": "stream",
     "text": [
      "Performing inference on images:  33%|██████████████████▋                                     | 77/231 [00:34<01:07,  2.28it/s]"
     ]
    },
    {
     "name": "stdout",
     "output_type": "stream",
     "text": [
      "Prediction time is: 373.03 ms\n",
      "Performing prediction on 8 slices.\n"
     ]
    },
    {
     "name": "stderr",
     "output_type": "stream",
     "text": [
      "Performing inference on images:  34%|██████████████████▉                                     | 78/231 [00:34<01:07,  2.28it/s]"
     ]
    },
    {
     "name": "stdout",
     "output_type": "stream",
     "text": [
      "Prediction time is: 355.86 ms\n",
      "Performing prediction on 8 slices.\n"
     ]
    },
    {
     "name": "stderr",
     "output_type": "stream",
     "text": [
      "Performing inference on images:  34%|███████████████████▏                                    | 79/231 [00:35<01:06,  2.29it/s]"
     ]
    },
    {
     "name": "stdout",
     "output_type": "stream",
     "text": [
      "Prediction time is: 355.28 ms\n",
      "Performing prediction on 8 slices.\n"
     ]
    },
    {
     "name": "stderr",
     "output_type": "stream",
     "text": [
      "Performing inference on images:  35%|███████████████████▍                                    | 80/231 [00:35<01:05,  2.32it/s]"
     ]
    },
    {
     "name": "stdout",
     "output_type": "stream",
     "text": [
      "Prediction time is: 337.84 ms\n",
      "Performing prediction on 8 slices.\n"
     ]
    },
    {
     "name": "stderr",
     "output_type": "stream",
     "text": [
      "Performing inference on images:  35%|███████████████████▋                                    | 81/231 [00:35<01:03,  2.35it/s]"
     ]
    },
    {
     "name": "stdout",
     "output_type": "stream",
     "text": [
      "Prediction time is: 338.13 ms\n",
      "Performing prediction on 8 slices.\n"
     ]
    },
    {
     "name": "stderr",
     "output_type": "stream",
     "text": [
      "Performing inference on images:  35%|███████████████████▉                                    | 82/231 [00:36<01:03,  2.35it/s]"
     ]
    },
    {
     "name": "stdout",
     "output_type": "stream",
     "text": [
      "Prediction time is: 342.95 ms\n",
      "Performing prediction on 8 slices.\n"
     ]
    },
    {
     "name": "stderr",
     "output_type": "stream",
     "text": [
      "Performing inference on images:  36%|████████████████████                                    | 83/231 [00:36<01:03,  2.34it/s]"
     ]
    },
    {
     "name": "stdout",
     "output_type": "stream",
     "text": [
      "Prediction time is: 354.94 ms\n",
      "Performing prediction on 8 slices.\n"
     ]
    },
    {
     "name": "stderr",
     "output_type": "stream",
     "text": [
      "Performing inference on images:  36%|████████████████████▎                                   | 84/231 [00:37<01:03,  2.33it/s]"
     ]
    },
    {
     "name": "stdout",
     "output_type": "stream",
     "text": [
      "Prediction time is: 359.02 ms\n",
      "Performing prediction on 8 slices.\n"
     ]
    },
    {
     "name": "stderr",
     "output_type": "stream",
     "text": [
      "Performing inference on images:  37%|████████████████████▌                                   | 85/231 [00:37<01:03,  2.31it/s]"
     ]
    },
    {
     "name": "stdout",
     "output_type": "stream",
     "text": [
      "Prediction time is: 361.30 ms\n",
      "Performing prediction on 8 slices.\n"
     ]
    },
    {
     "name": "stderr",
     "output_type": "stream",
     "text": [
      "Performing inference on images:  37%|████████████████████▊                                   | 86/231 [00:38<01:01,  2.34it/s]"
     ]
    },
    {
     "name": "stdout",
     "output_type": "stream",
     "text": [
      "Prediction time is: 343.12 ms\n",
      "Performing prediction on 8 slices.\n"
     ]
    },
    {
     "name": "stderr",
     "output_type": "stream",
     "text": [
      "Performing inference on images:  38%|█████████████████████                                   | 87/231 [00:38<01:01,  2.35it/s]"
     ]
    },
    {
     "name": "stdout",
     "output_type": "stream",
     "text": [
      "Prediction time is: 347.28 ms\n",
      "Performing prediction on 8 slices.\n"
     ]
    },
    {
     "name": "stderr",
     "output_type": "stream",
     "text": [
      "Performing inference on images:  38%|█████████████████████▎                                  | 88/231 [00:38<01:00,  2.37it/s]"
     ]
    },
    {
     "name": "stdout",
     "output_type": "stream",
     "text": [
      "Prediction time is: 332.49 ms\n",
      "Performing prediction on 8 slices.\n"
     ]
    },
    {
     "name": "stderr",
     "output_type": "stream",
     "text": [
      "Performing inference on images:  39%|█████████████████████▌                                  | 89/231 [00:39<00:59,  2.38it/s]"
     ]
    },
    {
     "name": "stdout",
     "output_type": "stream",
     "text": [
      "Prediction time is: 348.47 ms\n",
      "Performing prediction on 8 slices.\n"
     ]
    },
    {
     "name": "stderr",
     "output_type": "stream",
     "text": [
      "Performing inference on images:  39%|█████████████████████▊                                  | 90/231 [00:39<01:00,  2.33it/s]"
     ]
    },
    {
     "name": "stdout",
     "output_type": "stream",
     "text": [
      "Prediction time is: 365.16 ms\n",
      "Performing prediction on 8 slices.\n"
     ]
    },
    {
     "name": "stderr",
     "output_type": "stream",
     "text": [
      "Performing inference on images:  39%|██████████████████████                                  | 91/231 [00:40<00:59,  2.36it/s]"
     ]
    },
    {
     "name": "stdout",
     "output_type": "stream",
     "text": [
      "Prediction time is: 336.37 ms\n",
      "Performing prediction on 8 slices.\n"
     ]
    },
    {
     "name": "stderr",
     "output_type": "stream",
     "text": [
      "Performing inference on images:  40%|██████████████████████▎                                 | 92/231 [00:40<00:59,  2.34it/s]"
     ]
    },
    {
     "name": "stdout",
     "output_type": "stream",
     "text": [
      "Prediction time is: 353.50 ms\n",
      "Performing prediction on 8 slices.\n"
     ]
    },
    {
     "name": "stderr",
     "output_type": "stream",
     "text": [
      "Performing inference on images:  40%|██████████████████████▌                                 | 93/231 [00:41<00:59,  2.34it/s]"
     ]
    },
    {
     "name": "stdout",
     "output_type": "stream",
     "text": [
      "Prediction time is: 347.29 ms\n",
      "Performing prediction on 8 slices.\n"
     ]
    },
    {
     "name": "stderr",
     "output_type": "stream",
     "text": [
      "Performing inference on images:  41%|██████████████████████▊                                 | 94/231 [00:41<00:58,  2.34it/s]"
     ]
    },
    {
     "name": "stdout",
     "output_type": "stream",
     "text": [
      "Prediction time is: 349.46 ms\n",
      "Performing prediction on 8 slices.\n"
     ]
    },
    {
     "name": "stderr",
     "output_type": "stream",
     "text": [
      "Performing inference on images:  41%|███████████████████████                                 | 95/231 [00:41<00:58,  2.31it/s]"
     ]
    },
    {
     "name": "stdout",
     "output_type": "stream",
     "text": [
      "Prediction time is: 368.75 ms\n",
      "Performing prediction on 8 slices.\n"
     ]
    },
    {
     "name": "stderr",
     "output_type": "stream",
     "text": [
      "Performing inference on images:  42%|███████████████████████▎                                | 96/231 [00:42<00:57,  2.35it/s]"
     ]
    },
    {
     "name": "stdout",
     "output_type": "stream",
     "text": [
      "Prediction time is: 333.44 ms\n",
      "Performing prediction on 8 slices.\n"
     ]
    },
    {
     "name": "stderr",
     "output_type": "stream",
     "text": [
      "Performing inference on images:  42%|███████████████████████▌                                | 97/231 [00:42<00:57,  2.34it/s]"
     ]
    },
    {
     "name": "stdout",
     "output_type": "stream",
     "text": [
      "Prediction time is: 353.40 ms\n",
      "Performing prediction on 8 slices.\n"
     ]
    },
    {
     "name": "stderr",
     "output_type": "stream",
     "text": [
      "Performing inference on images:  42%|███████████████████████▊                                | 98/231 [00:43<00:57,  2.30it/s]"
     ]
    },
    {
     "name": "stdout",
     "output_type": "stream",
     "text": [
      "Prediction time is: 375.13 ms\n",
      "Performing prediction on 8 slices.\n"
     ]
    },
    {
     "name": "stderr",
     "output_type": "stream",
     "text": [
      "Performing inference on images:  43%|████████████████████████                                | 99/231 [00:43<00:58,  2.28it/s]"
     ]
    },
    {
     "name": "stdout",
     "output_type": "stream",
     "text": [
      "Prediction time is: 377.42 ms\n",
      "Performing prediction on 8 slices.\n"
     ]
    },
    {
     "name": "stderr",
     "output_type": "stream",
     "text": [
      "Performing inference on images:  43%|███████████████████████▊                               | 100/231 [00:44<00:56,  2.30it/s]"
     ]
    },
    {
     "name": "stdout",
     "output_type": "stream",
     "text": [
      "Prediction time is: 338.64 ms\n",
      "Performing prediction on 8 slices.\n"
     ]
    },
    {
     "name": "stderr",
     "output_type": "stream",
     "text": [
      "Performing inference on images:  44%|████████████████████████                               | 101/231 [00:44<00:56,  2.32it/s]"
     ]
    },
    {
     "name": "stdout",
     "output_type": "stream",
     "text": [
      "Prediction time is: 348.74 ms\n",
      "Performing prediction on 8 slices.\n"
     ]
    },
    {
     "name": "stderr",
     "output_type": "stream",
     "text": [
      "Performing inference on images:  44%|████████████████████████▎                              | 102/231 [00:45<00:55,  2.30it/s]"
     ]
    },
    {
     "name": "stdout",
     "output_type": "stream",
     "text": [
      "Prediction time is: 360.23 ms\n",
      "Performing prediction on 8 slices.\n"
     ]
    },
    {
     "name": "stderr",
     "output_type": "stream",
     "text": [
      "Performing inference on images:  45%|████████████████████████▌                              | 103/231 [00:45<00:54,  2.34it/s]"
     ]
    },
    {
     "name": "stdout",
     "output_type": "stream",
     "text": [
      "Prediction time is: 340.04 ms\n",
      "Performing prediction on 8 slices.\n"
     ]
    },
    {
     "name": "stderr",
     "output_type": "stream",
     "text": [
      "Performing inference on images:  45%|████████████████████████▊                              | 104/231 [00:45<00:54,  2.35it/s]"
     ]
    },
    {
     "name": "stdout",
     "output_type": "stream",
     "text": [
      "Prediction time is: 344.40 ms\n",
      "Performing prediction on 8 slices.\n"
     ]
    },
    {
     "name": "stderr",
     "output_type": "stream",
     "text": [
      "Performing inference on images:  45%|█████████████████████████                              | 105/231 [00:46<00:53,  2.35it/s]"
     ]
    },
    {
     "name": "stdout",
     "output_type": "stream",
     "text": [
      "Prediction time is: 348.09 ms\n",
      "Performing prediction on 8 slices.\n"
     ]
    },
    {
     "name": "stderr",
     "output_type": "stream",
     "text": [
      "Performing inference on images:  46%|█████████████████████████▏                             | 106/231 [00:46<00:52,  2.37it/s]"
     ]
    },
    {
     "name": "stdout",
     "output_type": "stream",
     "text": [
      "Prediction time is: 337.70 ms\n",
      "Performing prediction on 8 slices.\n"
     ]
    },
    {
     "name": "stderr",
     "output_type": "stream",
     "text": [
      "Performing inference on images:  46%|█████████████████████████▍                             | 107/231 [00:47<00:52,  2.38it/s]"
     ]
    },
    {
     "name": "stdout",
     "output_type": "stream",
     "text": [
      "Prediction time is: 335.21 ms\n",
      "Performing prediction on 8 slices.\n"
     ]
    },
    {
     "name": "stderr",
     "output_type": "stream",
     "text": [
      "Performing inference on images:  47%|█████████████████████████▋                             | 108/231 [00:47<00:51,  2.41it/s]"
     ]
    },
    {
     "name": "stdout",
     "output_type": "stream",
     "text": [
      "Prediction time is: 326.67 ms\n",
      "Performing prediction on 8 slices.\n"
     ]
    },
    {
     "name": "stderr",
     "output_type": "stream",
     "text": [
      "Performing inference on images:  47%|█████████████████████████▉                             | 109/231 [00:47<00:51,  2.38it/s]"
     ]
    },
    {
     "name": "stdout",
     "output_type": "stream",
     "text": [
      "Prediction time is: 350.85 ms\n",
      "Performing prediction on 8 slices.\n"
     ]
    },
    {
     "name": "stderr",
     "output_type": "stream",
     "text": [
      "Performing inference on images:  48%|██████████████████████████▏                            | 110/231 [00:48<00:50,  2.38it/s]"
     ]
    },
    {
     "name": "stdout",
     "output_type": "stream",
     "text": [
      "Prediction time is: 342.54 ms\n",
      "Performing prediction on 8 slices.\n"
     ]
    },
    {
     "name": "stderr",
     "output_type": "stream",
     "text": [
      "Performing inference on images:  48%|██████████████████████████▍                            | 111/231 [00:48<00:50,  2.38it/s]"
     ]
    },
    {
     "name": "stdout",
     "output_type": "stream",
     "text": [
      "Prediction time is: 329.80 ms\n",
      "Performing prediction on 8 slices.\n"
     ]
    },
    {
     "name": "stderr",
     "output_type": "stream",
     "text": [
      "Performing inference on images:  48%|██████████████████████████▋                            | 112/231 [00:49<00:50,  2.36it/s]"
     ]
    },
    {
     "name": "stdout",
     "output_type": "stream",
     "text": [
      "Prediction time is: 351.52 ms\n",
      "Performing prediction on 8 slices.\n"
     ]
    },
    {
     "name": "stderr",
     "output_type": "stream",
     "text": [
      "Performing inference on images:  49%|██████████████████████████▉                            | 113/231 [00:49<00:50,  2.32it/s]"
     ]
    },
    {
     "name": "stdout",
     "output_type": "stream",
     "text": [
      "Prediction time is: 361.47 ms\n",
      "Performing prediction on 8 slices.\n"
     ]
    },
    {
     "name": "stderr",
     "output_type": "stream",
     "text": [
      "Performing inference on images:  49%|███████████████████████████▏                           | 114/231 [00:50<00:50,  2.33it/s]"
     ]
    },
    {
     "name": "stdout",
     "output_type": "stream",
     "text": [
      "Prediction time is: 349.84 ms\n",
      "Performing prediction on 8 slices.\n"
     ]
    },
    {
     "name": "stderr",
     "output_type": "stream",
     "text": [
      "Performing inference on images:  50%|███████████████████████████▍                           | 115/231 [00:50<00:50,  2.31it/s]"
     ]
    },
    {
     "name": "stdout",
     "output_type": "stream",
     "text": [
      "Prediction time is: 360.33 ms\n",
      "Performing prediction on 8 slices.\n"
     ]
    },
    {
     "name": "stderr",
     "output_type": "stream",
     "text": [
      "Performing inference on images:  50%|███████████████████████████▌                           | 116/231 [00:50<00:48,  2.35it/s]"
     ]
    },
    {
     "name": "stdout",
     "output_type": "stream",
     "text": [
      "Prediction time is: 332.53 ms\n",
      "Performing prediction on 8 slices.\n"
     ]
    },
    {
     "name": "stderr",
     "output_type": "stream",
     "text": [
      "Performing inference on images:  51%|███████████████████████████▊                           | 117/231 [00:51<00:48,  2.37it/s]"
     ]
    },
    {
     "name": "stdout",
     "output_type": "stream",
     "text": [
      "Prediction time is: 337.11 ms\n",
      "Performing prediction on 8 slices.\n"
     ]
    },
    {
     "name": "stderr",
     "output_type": "stream",
     "text": [
      "Performing inference on images:  51%|████████████████████████████                           | 118/231 [00:51<00:47,  2.37it/s]"
     ]
    },
    {
     "name": "stdout",
     "output_type": "stream",
     "text": [
      "Prediction time is: 346.72 ms\n",
      "Performing prediction on 8 slices.\n"
     ]
    },
    {
     "name": "stderr",
     "output_type": "stream",
     "text": [
      "Performing inference on images:  52%|████████████████████████████▎                          | 119/231 [00:52<00:47,  2.35it/s]"
     ]
    },
    {
     "name": "stdout",
     "output_type": "stream",
     "text": [
      "Prediction time is: 352.05 ms\n",
      "Performing prediction on 8 slices.\n"
     ]
    },
    {
     "name": "stderr",
     "output_type": "stream",
     "text": [
      "Performing inference on images:  52%|████████████████████████████▌                          | 120/231 [00:52<00:46,  2.37it/s]"
     ]
    },
    {
     "name": "stdout",
     "output_type": "stream",
     "text": [
      "Prediction time is: 339.38 ms\n",
      "Performing prediction on 8 slices.\n"
     ]
    },
    {
     "name": "stderr",
     "output_type": "stream",
     "text": [
      "Performing inference on images:  52%|████████████████████████████▊                          | 121/231 [00:53<00:46,  2.37it/s]"
     ]
    },
    {
     "name": "stdout",
     "output_type": "stream",
     "text": [
      "Prediction time is: 340.56 ms\n",
      "Performing prediction on 8 slices.\n"
     ]
    },
    {
     "name": "stderr",
     "output_type": "stream",
     "text": [
      "Performing inference on images:  53%|█████████████████████████████                          | 122/231 [00:53<00:46,  2.37it/s]"
     ]
    },
    {
     "name": "stdout",
     "output_type": "stream",
     "text": [
      "Prediction time is: 348.24 ms\n",
      "Performing prediction on 8 slices.\n"
     ]
    },
    {
     "name": "stderr",
     "output_type": "stream",
     "text": [
      "Performing inference on images:  53%|█████████████████████████████▎                         | 123/231 [00:53<00:45,  2.35it/s]"
     ]
    },
    {
     "name": "stdout",
     "output_type": "stream",
     "text": [
      "Prediction time is: 351.15 ms\n",
      "Performing prediction on 8 slices.\n"
     ]
    },
    {
     "name": "stderr",
     "output_type": "stream",
     "text": [
      "Performing inference on images:  54%|█████████████████████████████▌                         | 124/231 [00:54<00:45,  2.37it/s]"
     ]
    },
    {
     "name": "stdout",
     "output_type": "stream",
     "text": [
      "Prediction time is: 340.83 ms\n",
      "Performing prediction on 8 slices.\n"
     ]
    },
    {
     "name": "stderr",
     "output_type": "stream",
     "text": [
      "Performing inference on images:  54%|█████████████████████████████▊                         | 125/231 [00:54<00:45,  2.35it/s]"
     ]
    },
    {
     "name": "stdout",
     "output_type": "stream",
     "text": [
      "Prediction time is: 351.56 ms\n",
      "Performing prediction on 8 slices.\n"
     ]
    },
    {
     "name": "stderr",
     "output_type": "stream",
     "text": [
      "Performing inference on images:  55%|█████████████████████████████▉                         | 126/231 [00:55<00:45,  2.33it/s]"
     ]
    },
    {
     "name": "stdout",
     "output_type": "stream",
     "text": [
      "Prediction time is: 360.08 ms\n",
      "Performing prediction on 8 slices.\n"
     ]
    },
    {
     "name": "stderr",
     "output_type": "stream",
     "text": [
      "Performing inference on images:  55%|██████████████████████████████▏                        | 127/231 [00:55<00:46,  2.26it/s]"
     ]
    },
    {
     "name": "stdout",
     "output_type": "stream",
     "text": [
      "Prediction time is: 390.68 ms\n",
      "Performing prediction on 8 slices.\n"
     ]
    },
    {
     "name": "stderr",
     "output_type": "stream",
     "text": [
      "Performing inference on images:  55%|██████████████████████████████▍                        | 128/231 [00:56<00:45,  2.25it/s]"
     ]
    },
    {
     "name": "stdout",
     "output_type": "stream",
     "text": [
      "Prediction time is: 369.37 ms\n",
      "Performing prediction on 8 slices.\n"
     ]
    },
    {
     "name": "stderr",
     "output_type": "stream",
     "text": [
      "Performing inference on images:  56%|██████████████████████████████▋                        | 129/231 [00:56<00:46,  2.19it/s]"
     ]
    },
    {
     "name": "stdout",
     "output_type": "stream",
     "text": [
      "Prediction time is: 394.76 ms\n",
      "Performing prediction on 8 slices.\n"
     ]
    },
    {
     "name": "stderr",
     "output_type": "stream",
     "text": [
      "Performing inference on images:  56%|██████████████████████████████▉                        | 130/231 [00:57<00:45,  2.20it/s]"
     ]
    },
    {
     "name": "stdout",
     "output_type": "stream",
     "text": [
      "Prediction time is: 373.33 ms\n",
      "Performing prediction on 8 slices.\n"
     ]
    },
    {
     "name": "stderr",
     "output_type": "stream",
     "text": [
      "Performing inference on images:  57%|███████████████████████████████▏                       | 131/231 [00:57<00:45,  2.20it/s]"
     ]
    },
    {
     "name": "stdout",
     "output_type": "stream",
     "text": [
      "Prediction time is: 370.65 ms\n",
      "Performing prediction on 8 slices.\n"
     ]
    },
    {
     "name": "stderr",
     "output_type": "stream",
     "text": [
      "Performing inference on images:  57%|███████████████████████████████▍                       | 132/231 [00:57<00:44,  2.24it/s]"
     ]
    },
    {
     "name": "stdout",
     "output_type": "stream",
     "text": [
      "Prediction time is: 351.10 ms\n",
      "Performing prediction on 8 slices.\n"
     ]
    },
    {
     "name": "stderr",
     "output_type": "stream",
     "text": [
      "Performing inference on images:  58%|███████████████████████████████▋                       | 133/231 [00:58<00:42,  2.29it/s]"
     ]
    },
    {
     "name": "stdout",
     "output_type": "stream",
     "text": [
      "Prediction time is: 336.92 ms\n",
      "Performing prediction on 8 slices.\n"
     ]
    },
    {
     "name": "stderr",
     "output_type": "stream",
     "text": [
      "Performing inference on images:  58%|███████████████████████████████▉                       | 134/231 [00:58<00:41,  2.32it/s]"
     ]
    },
    {
     "name": "stdout",
     "output_type": "stream",
     "text": [
      "Prediction time is: 340.15 ms\n",
      "Performing prediction on 8 slices.\n"
     ]
    },
    {
     "name": "stderr",
     "output_type": "stream",
     "text": [
      "Performing inference on images:  58%|████████████████████████████████▏                      | 135/231 [00:59<00:41,  2.32it/s]"
     ]
    },
    {
     "name": "stdout",
     "output_type": "stream",
     "text": [
      "Prediction time is: 350.90 ms\n",
      "Performing prediction on 8 slices.\n"
     ]
    },
    {
     "name": "stderr",
     "output_type": "stream",
     "text": [
      "Performing inference on images:  59%|████████████████████████████████▍                      | 136/231 [00:59<00:40,  2.37it/s]"
     ]
    },
    {
     "name": "stdout",
     "output_type": "stream",
     "text": [
      "Prediction time is: 322.24 ms\n",
      "Performing prediction on 8 slices.\n"
     ]
    },
    {
     "name": "stderr",
     "output_type": "stream",
     "text": [
      "Performing inference on images:  59%|████████████████████████████████▌                      | 137/231 [01:00<00:39,  2.36it/s]"
     ]
    },
    {
     "name": "stdout",
     "output_type": "stream",
     "text": [
      "Prediction time is: 352.22 ms\n",
      "Performing prediction on 8 slices.\n"
     ]
    },
    {
     "name": "stderr",
     "output_type": "stream",
     "text": [
      "Performing inference on images:  60%|████████████████████████████████▊                      | 138/231 [01:00<00:39,  2.36it/s]"
     ]
    },
    {
     "name": "stdout",
     "output_type": "stream",
     "text": [
      "Prediction time is: 346.34 ms\n",
      "Performing prediction on 8 slices.\n"
     ]
    },
    {
     "name": "stderr",
     "output_type": "stream",
     "text": [
      "Performing inference on images:  60%|█████████████████████████████████                      | 139/231 [01:00<00:38,  2.37it/s]"
     ]
    },
    {
     "name": "stdout",
     "output_type": "stream",
     "text": [
      "Prediction time is: 344.03 ms\n",
      "Performing prediction on 8 slices.\n"
     ]
    },
    {
     "name": "stderr",
     "output_type": "stream",
     "text": [
      "Performing inference on images:  61%|█████████████████████████████████▎                     | 140/231 [01:01<00:37,  2.42it/s]"
     ]
    },
    {
     "name": "stdout",
     "output_type": "stream",
     "text": [
      "Prediction time is: 320.11 ms\n",
      "Performing prediction on 8 slices.\n"
     ]
    },
    {
     "name": "stderr",
     "output_type": "stream",
     "text": [
      "Performing inference on images:  61%|█████████████████████████████████▌                     | 141/231 [01:01<00:37,  2.39it/s]"
     ]
    },
    {
     "name": "stdout",
     "output_type": "stream",
     "text": [
      "Prediction time is: 346.85 ms\n",
      "Performing prediction on 8 slices.\n"
     ]
    },
    {
     "name": "stderr",
     "output_type": "stream",
     "text": [
      "Performing inference on images:  61%|█████████████████████████████████▊                     | 142/231 [01:02<00:37,  2.37it/s]"
     ]
    },
    {
     "name": "stdout",
     "output_type": "stream",
     "text": [
      "Prediction time is: 351.70 ms\n",
      "Performing prediction on 8 slices.\n"
     ]
    },
    {
     "name": "stderr",
     "output_type": "stream",
     "text": [
      "Performing inference on images:  62%|██████████████████████████████████                     | 143/231 [01:02<00:37,  2.37it/s]"
     ]
    },
    {
     "name": "stdout",
     "output_type": "stream",
     "text": [
      "Prediction time is: 344.93 ms\n",
      "Performing prediction on 8 slices.\n"
     ]
    },
    {
     "name": "stderr",
     "output_type": "stream",
     "text": [
      "Performing inference on images:  62%|██████████████████████████████████▎                    | 144/231 [01:02<00:37,  2.31it/s]"
     ]
    },
    {
     "name": "stdout",
     "output_type": "stream",
     "text": [
      "Prediction time is: 378.97 ms\n",
      "Performing prediction on 8 slices.\n"
     ]
    },
    {
     "name": "stderr",
     "output_type": "stream",
     "text": [
      "Performing inference on images:  63%|██████████████████████████████████▌                    | 145/231 [01:03<00:37,  2.32it/s]"
     ]
    },
    {
     "name": "stdout",
     "output_type": "stream",
     "text": [
      "Prediction time is: 350.31 ms\n",
      "Performing prediction on 8 slices.\n"
     ]
    },
    {
     "name": "stderr",
     "output_type": "stream",
     "text": [
      "Performing inference on images:  63%|██████████████████████████████████▊                    | 146/231 [01:03<00:36,  2.35it/s]"
     ]
    },
    {
     "name": "stdout",
     "output_type": "stream",
     "text": [
      "Prediction time is: 338.66 ms\n",
      "Performing prediction on 8 slices.\n"
     ]
    },
    {
     "name": "stderr",
     "output_type": "stream",
     "text": [
      "Performing inference on images:  64%|███████████████████████████████████                    | 147/231 [01:04<00:36,  2.33it/s]"
     ]
    },
    {
     "name": "stdout",
     "output_type": "stream",
     "text": [
      "Prediction time is: 354.60 ms\n",
      "Performing prediction on 8 slices.\n"
     ]
    },
    {
     "name": "stderr",
     "output_type": "stream",
     "text": [
      "Performing inference on images:  64%|███████████████████████████████████▏                   | 148/231 [01:04<00:35,  2.36it/s]"
     ]
    },
    {
     "name": "stdout",
     "output_type": "stream",
     "text": [
      "Prediction time is: 339.85 ms\n",
      "Performing prediction on 8 slices.\n"
     ]
    },
    {
     "name": "stderr",
     "output_type": "stream",
     "text": [
      "Performing inference on images:  65%|███████████████████████████████████▍                   | 149/231 [01:05<00:35,  2.33it/s]"
     ]
    },
    {
     "name": "stdout",
     "output_type": "stream",
     "text": [
      "Prediction time is: 361.15 ms\n",
      "Performing prediction on 8 slices.\n"
     ]
    },
    {
     "name": "stderr",
     "output_type": "stream",
     "text": [
      "Performing inference on images:  65%|███████████████████████████████████▋                   | 150/231 [01:05<00:34,  2.35it/s]"
     ]
    },
    {
     "name": "stdout",
     "output_type": "stream",
     "text": [
      "Prediction time is: 339.29 ms\n",
      "Performing prediction on 8 slices.\n"
     ]
    },
    {
     "name": "stderr",
     "output_type": "stream",
     "text": [
      "Performing inference on images:  65%|███████████████████████████████████▉                   | 151/231 [01:05<00:34,  2.34it/s]"
     ]
    },
    {
     "name": "stdout",
     "output_type": "stream",
     "text": [
      "Prediction time is: 354.10 ms\n",
      "Performing prediction on 8 slices.\n"
     ]
    },
    {
     "name": "stderr",
     "output_type": "stream",
     "text": [
      "Performing inference on images:  66%|████████████████████████████████████▏                  | 152/231 [01:06<00:34,  2.32it/s]"
     ]
    },
    {
     "name": "stdout",
     "output_type": "stream",
     "text": [
      "Prediction time is: 355.64 ms\n",
      "Performing prediction on 8 slices.\n"
     ]
    },
    {
     "name": "stderr",
     "output_type": "stream",
     "text": [
      "Performing inference on images:  66%|████████████████████████████████████▍                  | 153/231 [01:06<00:33,  2.30it/s]"
     ]
    },
    {
     "name": "stdout",
     "output_type": "stream",
     "text": [
      "Prediction time is: 366.95 ms\n",
      "Performing prediction on 8 slices.\n"
     ]
    },
    {
     "name": "stderr",
     "output_type": "stream",
     "text": [
      "Performing inference on images:  67%|████████████████████████████████████▋                  | 154/231 [01:07<00:33,  2.30it/s]"
     ]
    },
    {
     "name": "stdout",
     "output_type": "stream",
     "text": [
      "Prediction time is: 360.11 ms\n",
      "Performing prediction on 8 slices.\n"
     ]
    },
    {
     "name": "stderr",
     "output_type": "stream",
     "text": [
      "Performing inference on images:  67%|████████████████████████████████████▉                  | 155/231 [01:07<00:33,  2.28it/s]"
     ]
    },
    {
     "name": "stdout",
     "output_type": "stream",
     "text": [
      "Prediction time is: 366.91 ms\n",
      "Performing prediction on 8 slices.\n"
     ]
    },
    {
     "name": "stderr",
     "output_type": "stream",
     "text": [
      "Performing inference on images:  68%|█████████████████████████████████████▏                 | 156/231 [01:08<00:32,  2.29it/s]"
     ]
    },
    {
     "name": "stdout",
     "output_type": "stream",
     "text": [
      "Prediction time is: 352.19 ms\n",
      "Performing prediction on 8 slices.\n"
     ]
    },
    {
     "name": "stderr",
     "output_type": "stream",
     "text": [
      "Performing inference on images:  68%|█████████████████████████████████████▍                 | 157/231 [01:08<00:32,  2.27it/s]"
     ]
    },
    {
     "name": "stdout",
     "output_type": "stream",
     "text": [
      "Prediction time is: 369.35 ms\n",
      "Performing prediction on 8 slices.\n"
     ]
    },
    {
     "name": "stderr",
     "output_type": "stream",
     "text": [
      "Performing inference on images:  68%|█████████████████████████████████████▌                 | 158/231 [01:09<00:31,  2.30it/s]"
     ]
    },
    {
     "name": "stdout",
     "output_type": "stream",
     "text": [
      "Prediction time is: 342.38 ms\n",
      "Performing prediction on 8 slices.\n"
     ]
    },
    {
     "name": "stderr",
     "output_type": "stream",
     "text": [
      "Performing inference on images:  69%|█████████████████████████████████████▊                 | 159/231 [01:09<00:31,  2.31it/s]"
     ]
    },
    {
     "name": "stdout",
     "output_type": "stream",
     "text": [
      "Prediction time is: 345.51 ms\n",
      "Performing prediction on 8 slices.\n"
     ]
    },
    {
     "name": "stderr",
     "output_type": "stream",
     "text": [
      "Performing inference on images:  69%|██████████████████████████████████████                 | 160/231 [01:09<00:30,  2.33it/s]"
     ]
    },
    {
     "name": "stdout",
     "output_type": "stream",
     "text": [
      "Prediction time is: 340.50 ms\n",
      "Performing prediction on 8 slices.\n"
     ]
    },
    {
     "name": "stderr",
     "output_type": "stream",
     "text": [
      "Performing inference on images:  70%|██████████████████████████████████████▎                | 161/231 [01:10<00:30,  2.31it/s]"
     ]
    },
    {
     "name": "stdout",
     "output_type": "stream",
     "text": [
      "Prediction time is: 365.67 ms\n",
      "Performing prediction on 8 slices.\n"
     ]
    },
    {
     "name": "stderr",
     "output_type": "stream",
     "text": [
      "Performing inference on images:  70%|██████████████████████████████████████▌                | 162/231 [01:10<00:30,  2.27it/s]"
     ]
    },
    {
     "name": "stdout",
     "output_type": "stream",
     "text": [
      "Prediction time is: 376.72 ms\n",
      "Performing prediction on 8 slices.\n"
     ]
    },
    {
     "name": "stderr",
     "output_type": "stream",
     "text": [
      "Performing inference on images:  71%|██████████████████████████████████████▊                | 163/231 [01:11<00:29,  2.27it/s]"
     ]
    },
    {
     "name": "stdout",
     "output_type": "stream",
     "text": [
      "Prediction time is: 363.50 ms\n",
      "Performing prediction on 8 slices.\n"
     ]
    },
    {
     "name": "stderr",
     "output_type": "stream",
     "text": [
      "Performing inference on images:  71%|███████████████████████████████████████                | 164/231 [01:11<00:29,  2.28it/s]"
     ]
    },
    {
     "name": "stdout",
     "output_type": "stream",
     "text": [
      "Prediction time is: 355.70 ms\n",
      "Performing prediction on 8 slices.\n"
     ]
    },
    {
     "name": "stderr",
     "output_type": "stream",
     "text": [
      "Performing inference on images:  71%|███████████████████████████████████████▎               | 165/231 [01:12<00:28,  2.30it/s]"
     ]
    },
    {
     "name": "stdout",
     "output_type": "stream",
     "text": [
      "Prediction time is: 348.38 ms\n",
      "Performing prediction on 8 slices.\n"
     ]
    },
    {
     "name": "stderr",
     "output_type": "stream",
     "text": [
      "Performing inference on images:  72%|███████████████████████████████████████▌               | 166/231 [01:12<00:28,  2.28it/s]"
     ]
    },
    {
     "name": "stdout",
     "output_type": "stream",
     "text": [
      "Prediction time is: 369.35 ms\n",
      "Performing prediction on 8 slices.\n"
     ]
    },
    {
     "name": "stderr",
     "output_type": "stream",
     "text": [
      "Performing inference on images:  72%|███████████████████████████████████████▊               | 167/231 [01:12<00:28,  2.27it/s]"
     ]
    },
    {
     "name": "stdout",
     "output_type": "stream",
     "text": [
      "Prediction time is: 356.36 ms\n",
      "Performing prediction on 8 slices.\n"
     ]
    },
    {
     "name": "stderr",
     "output_type": "stream",
     "text": [
      "Performing inference on images:  73%|████████████████████████████████████████               | 168/231 [01:13<00:27,  2.26it/s]"
     ]
    },
    {
     "name": "stdout",
     "output_type": "stream",
     "text": [
      "Prediction time is: 366.97 ms\n",
      "Performing prediction on 8 slices.\n"
     ]
    },
    {
     "name": "stderr",
     "output_type": "stream",
     "text": [
      "Performing inference on images:  73%|████████████████████████████████████████▏              | 169/231 [01:13<00:27,  2.25it/s]"
     ]
    },
    {
     "name": "stdout",
     "output_type": "stream",
     "text": [
      "Prediction time is: 369.67 ms\n",
      "Performing prediction on 8 slices.\n"
     ]
    },
    {
     "name": "stderr",
     "output_type": "stream",
     "text": [
      "Performing inference on images:  74%|████████████████████████████████████████▍              | 170/231 [01:14<00:26,  2.27it/s]"
     ]
    },
    {
     "name": "stdout",
     "output_type": "stream",
     "text": [
      "Prediction time is: 359.19 ms\n",
      "Performing prediction on 8 slices.\n"
     ]
    },
    {
     "name": "stderr",
     "output_type": "stream",
     "text": [
      "Performing inference on images:  74%|████████████████████████████████████████▋              | 171/231 [01:14<00:26,  2.26it/s]"
     ]
    },
    {
     "name": "stdout",
     "output_type": "stream",
     "text": [
      "Prediction time is: 363.56 ms\n",
      "Performing prediction on 8 slices.\n"
     ]
    },
    {
     "name": "stderr",
     "output_type": "stream",
     "text": [
      "Performing inference on images:  74%|████████████████████████████████████████▉              | 172/231 [01:15<00:26,  2.25it/s]"
     ]
    },
    {
     "name": "stdout",
     "output_type": "stream",
     "text": [
      "Prediction time is: 374.25 ms\n",
      "Performing prediction on 8 slices.\n"
     ]
    },
    {
     "name": "stderr",
     "output_type": "stream",
     "text": [
      "Performing inference on images:  75%|█████████████████████████████████████████▏             | 173/231 [01:15<00:25,  2.27it/s]"
     ]
    },
    {
     "name": "stdout",
     "output_type": "stream",
     "text": [
      "Prediction time is: 350.36 ms\n",
      "Performing prediction on 8 slices.\n"
     ]
    },
    {
     "name": "stderr",
     "output_type": "stream",
     "text": [
      "Performing inference on images:  75%|█████████████████████████████████████████▍             | 174/231 [01:16<00:24,  2.31it/s]"
     ]
    },
    {
     "name": "stdout",
     "output_type": "stream",
     "text": [
      "Prediction time is: 340.39 ms\n",
      "Performing prediction on 8 slices.\n"
     ]
    },
    {
     "name": "stderr",
     "output_type": "stream",
     "text": [
      "Performing inference on images:  76%|█████████████████████████████████████████▋             | 175/231 [01:16<00:24,  2.26it/s]"
     ]
    },
    {
     "name": "stdout",
     "output_type": "stream",
     "text": [
      "Prediction time is: 366.76 ms\n",
      "Performing prediction on 8 slices.\n"
     ]
    },
    {
     "name": "stderr",
     "output_type": "stream",
     "text": [
      "Performing inference on images:  76%|█████████████████████████████████████████▉             | 176/231 [01:16<00:24,  2.27it/s]"
     ]
    },
    {
     "name": "stdout",
     "output_type": "stream",
     "text": [
      "Prediction time is: 362.62 ms\n",
      "Performing prediction on 8 slices.\n"
     ]
    },
    {
     "name": "stderr",
     "output_type": "stream",
     "text": [
      "Performing inference on images:  77%|██████████████████████████████████████████▏            | 177/231 [01:17<00:23,  2.28it/s]"
     ]
    },
    {
     "name": "stdout",
     "output_type": "stream",
     "text": [
      "Prediction time is: 354.36 ms\n",
      "Performing prediction on 8 slices.\n"
     ]
    },
    {
     "name": "stderr",
     "output_type": "stream",
     "text": [
      "Performing inference on images:  77%|██████████████████████████████████████████▍            | 178/231 [01:17<00:22,  2.32it/s]"
     ]
    },
    {
     "name": "stdout",
     "output_type": "stream",
     "text": [
      "Prediction time is: 330.25 ms\n",
      "Performing prediction on 8 slices.\n"
     ]
    },
    {
     "name": "stderr",
     "output_type": "stream",
     "text": [
      "Performing inference on images:  77%|██████████████████████████████████████████▌            | 179/231 [01:18<00:22,  2.32it/s]"
     ]
    },
    {
     "name": "stdout",
     "output_type": "stream",
     "text": [
      "Prediction time is: 354.86 ms\n",
      "Performing prediction on 8 slices.\n"
     ]
    },
    {
     "name": "stderr",
     "output_type": "stream",
     "text": [
      "Performing inference on images:  78%|██████████████████████████████████████████▊            | 180/231 [01:18<00:21,  2.34it/s]"
     ]
    },
    {
     "name": "stdout",
     "output_type": "stream",
     "text": [
      "Prediction time is: 338.69 ms\n",
      "Performing prediction on 8 slices.\n"
     ]
    },
    {
     "name": "stderr",
     "output_type": "stream",
     "text": [
      "Performing inference on images:  78%|███████████████████████████████████████████            | 181/231 [01:19<00:21,  2.35it/s]"
     ]
    },
    {
     "name": "stdout",
     "output_type": "stream",
     "text": [
      "Prediction time is: 346.00 ms\n",
      "Performing prediction on 8 slices.\n"
     ]
    },
    {
     "name": "stderr",
     "output_type": "stream",
     "text": [
      "Performing inference on images:  79%|███████████████████████████████████████████▎           | 182/231 [01:19<00:20,  2.36it/s]"
     ]
    },
    {
     "name": "stdout",
     "output_type": "stream",
     "text": [
      "Prediction time is: 339.45 ms\n",
      "Performing prediction on 8 slices.\n"
     ]
    },
    {
     "name": "stderr",
     "output_type": "stream",
     "text": [
      "Performing inference on images:  79%|███████████████████████████████████████████▌           | 183/231 [01:19<00:20,  2.35it/s]"
     ]
    },
    {
     "name": "stdout",
     "output_type": "stream",
     "text": [
      "Prediction time is: 351.77 ms\n",
      "Performing prediction on 8 slices.\n"
     ]
    },
    {
     "name": "stderr",
     "output_type": "stream",
     "text": [
      "Performing inference on images:  80%|███████████████████████████████████████████▊           | 184/231 [01:20<00:20,  2.33it/s]"
     ]
    },
    {
     "name": "stdout",
     "output_type": "stream",
     "text": [
      "Prediction time is: 357.77 ms\n",
      "Performing prediction on 8 slices.\n"
     ]
    },
    {
     "name": "stderr",
     "output_type": "stream",
     "text": [
      "Performing inference on images:  80%|████████████████████████████████████████████           | 185/231 [01:20<00:19,  2.35it/s]"
     ]
    },
    {
     "name": "stdout",
     "output_type": "stream",
     "text": [
      "Prediction time is: 341.85 ms\n",
      "Performing prediction on 8 slices.\n"
     ]
    },
    {
     "name": "stderr",
     "output_type": "stream",
     "text": [
      "Performing inference on images:  81%|████████████████████████████████████████████▎          | 186/231 [01:21<00:19,  2.34it/s]"
     ]
    },
    {
     "name": "stdout",
     "output_type": "stream",
     "text": [
      "Prediction time is: 354.42 ms\n",
      "Performing prediction on 8 slices.\n"
     ]
    },
    {
     "name": "stderr",
     "output_type": "stream",
     "text": [
      "Performing inference on images:  81%|████████████████████████████████████████████▌          | 187/231 [01:21<00:18,  2.36it/s]"
     ]
    },
    {
     "name": "stdout",
     "output_type": "stream",
     "text": [
      "Prediction time is: 338.32 ms\n",
      "Performing prediction on 8 slices.\n"
     ]
    },
    {
     "name": "stderr",
     "output_type": "stream",
     "text": [
      "Performing inference on images:  81%|████████████████████████████████████████████▊          | 188/231 [01:22<00:17,  2.39it/s]"
     ]
    },
    {
     "name": "stdout",
     "output_type": "stream",
     "text": [
      "Prediction time is: 330.85 ms\n",
      "Performing prediction on 8 slices.\n"
     ]
    },
    {
     "name": "stderr",
     "output_type": "stream",
     "text": [
      "Performing inference on images:  82%|█████████████████████████████████████████████          | 189/231 [01:22<00:17,  2.39it/s]"
     ]
    },
    {
     "name": "stdout",
     "output_type": "stream",
     "text": [
      "Prediction time is: 340.21 ms\n",
      "Performing prediction on 8 slices.\n"
     ]
    },
    {
     "name": "stderr",
     "output_type": "stream",
     "text": [
      "Performing inference on images:  82%|█████████████████████████████████████████████▏         | 190/231 [01:22<00:17,  2.36it/s]"
     ]
    },
    {
     "name": "stdout",
     "output_type": "stream",
     "text": [
      "Prediction time is: 362.23 ms\n",
      "Performing prediction on 8 slices.\n"
     ]
    },
    {
     "name": "stderr",
     "output_type": "stream",
     "text": [
      "Performing inference on images:  83%|█████████████████████████████████████████████▍         | 191/231 [01:23<00:17,  2.34it/s]"
     ]
    },
    {
     "name": "stdout",
     "output_type": "stream",
     "text": [
      "Prediction time is: 352.77 ms\n",
      "Performing prediction on 8 slices.\n"
     ]
    },
    {
     "name": "stderr",
     "output_type": "stream",
     "text": [
      "Performing inference on images:  83%|█████████████████████████████████████████████▋         | 192/231 [01:23<00:16,  2.33it/s]"
     ]
    },
    {
     "name": "stdout",
     "output_type": "stream",
     "text": [
      "Prediction time is: 353.85 ms\n",
      "Performing prediction on 8 slices.\n"
     ]
    },
    {
     "name": "stderr",
     "output_type": "stream",
     "text": [
      "Performing inference on images:  84%|█████████████████████████████████████████████▉         | 193/231 [01:24<00:16,  2.35it/s]"
     ]
    },
    {
     "name": "stdout",
     "output_type": "stream",
     "text": [
      "Prediction time is: 337.52 ms\n",
      "Performing prediction on 8 slices.\n"
     ]
    },
    {
     "name": "stderr",
     "output_type": "stream",
     "text": [
      "Performing inference on images:  84%|██████████████████████████████████████████████▏        | 194/231 [01:24<00:15,  2.35it/s]"
     ]
    },
    {
     "name": "stdout",
     "output_type": "stream",
     "text": [
      "Prediction time is: 342.05 ms\n",
      "Performing prediction on 8 slices.\n"
     ]
    },
    {
     "name": "stderr",
     "output_type": "stream",
     "text": [
      "Performing inference on images:  84%|██████████████████████████████████████████████▍        | 195/231 [01:25<00:15,  2.33it/s]"
     ]
    },
    {
     "name": "stdout",
     "output_type": "stream",
     "text": [
      "Prediction time is: 359.34 ms\n",
      "Performing prediction on 8 slices.\n"
     ]
    },
    {
     "name": "stderr",
     "output_type": "stream",
     "text": [
      "Performing inference on images:  85%|██████████████████████████████████████████████▋        | 196/231 [01:25<00:15,  2.30it/s]"
     ]
    },
    {
     "name": "stdout",
     "output_type": "stream",
     "text": [
      "Prediction time is: 367.60 ms\n",
      "Performing prediction on 8 slices.\n"
     ]
    },
    {
     "name": "stderr",
     "output_type": "stream",
     "text": [
      "Performing inference on images:  85%|██████████████████████████████████████████████▉        | 197/231 [01:25<00:14,  2.30it/s]"
     ]
    },
    {
     "name": "stdout",
     "output_type": "stream",
     "text": [
      "Prediction time is: 359.34 ms\n",
      "Performing prediction on 8 slices.\n"
     ]
    },
    {
     "name": "stderr",
     "output_type": "stream",
     "text": [
      "Performing inference on images:  86%|███████████████████████████████████████████████▏       | 198/231 [01:26<00:14,  2.29it/s]"
     ]
    },
    {
     "name": "stdout",
     "output_type": "stream",
     "text": [
      "Prediction time is: 359.03 ms\n",
      "Performing prediction on 8 slices.\n"
     ]
    },
    {
     "name": "stderr",
     "output_type": "stream",
     "text": [
      "Performing inference on images:  86%|███████████████████████████████████████████████▍       | 199/231 [01:26<00:13,  2.31it/s]"
     ]
    },
    {
     "name": "stdout",
     "output_type": "stream",
     "text": [
      "Prediction time is: 343.10 ms\n",
      "Performing prediction on 8 slices.\n"
     ]
    },
    {
     "name": "stderr",
     "output_type": "stream",
     "text": [
      "Performing inference on images:  87%|███████████████████████████████████████████████▌       | 200/231 [01:27<00:13,  2.34it/s]"
     ]
    },
    {
     "name": "stdout",
     "output_type": "stream",
     "text": [
      "Prediction time is: 337.80 ms\n",
      "Performing prediction on 8 slices.\n"
     ]
    },
    {
     "name": "stderr",
     "output_type": "stream",
     "text": [
      "Performing inference on images:  87%|███████████████████████████████████████████████▊       | 201/231 [01:27<00:12,  2.37it/s]"
     ]
    },
    {
     "name": "stdout",
     "output_type": "stream",
     "text": [
      "Prediction time is: 333.89 ms\n",
      "Performing prediction on 8 slices.\n"
     ]
    },
    {
     "name": "stderr",
     "output_type": "stream",
     "text": [
      "Performing inference on images:  87%|████████████████████████████████████████████████       | 202/231 [01:28<00:12,  2.38it/s]"
     ]
    },
    {
     "name": "stdout",
     "output_type": "stream",
     "text": [
      "Prediction time is: 340.82 ms\n",
      "Performing prediction on 8 slices.\n"
     ]
    },
    {
     "name": "stderr",
     "output_type": "stream",
     "text": [
      "Performing inference on images:  88%|████████████████████████████████████████████████▎      | 203/231 [01:28<00:11,  2.37it/s]"
     ]
    },
    {
     "name": "stdout",
     "output_type": "stream",
     "text": [
      "Prediction time is: 344.53 ms\n",
      "Performing prediction on 8 slices.\n"
     ]
    },
    {
     "name": "stderr",
     "output_type": "stream",
     "text": [
      "Performing inference on images:  88%|████████████████████████████████████████████████▌      | 204/231 [01:28<00:11,  2.37it/s]"
     ]
    },
    {
     "name": "stdout",
     "output_type": "stream",
     "text": [
      "Prediction time is: 343.87 ms\n",
      "Performing prediction on 8 slices.\n"
     ]
    },
    {
     "name": "stderr",
     "output_type": "stream",
     "text": [
      "Performing inference on images:  89%|████████████████████████████████████████████████▊      | 205/231 [01:29<00:10,  2.39it/s]"
     ]
    },
    {
     "name": "stdout",
     "output_type": "stream",
     "text": [
      "Prediction time is: 335.46 ms\n",
      "Performing prediction on 8 slices.\n"
     ]
    },
    {
     "name": "stderr",
     "output_type": "stream",
     "text": [
      "Performing inference on images:  89%|█████████████████████████████████████████████████      | 206/231 [01:29<00:10,  2.37it/s]"
     ]
    },
    {
     "name": "stdout",
     "output_type": "stream",
     "text": [
      "Prediction time is: 353.25 ms\n",
      "Performing prediction on 8 slices.\n"
     ]
    },
    {
     "name": "stderr",
     "output_type": "stream",
     "text": [
      "Performing inference on images:  90%|█████████████████████████████████████████████████▎     | 207/231 [01:30<00:10,  2.37it/s]"
     ]
    },
    {
     "name": "stdout",
     "output_type": "stream",
     "text": [
      "Prediction time is: 344.60 ms\n",
      "Performing prediction on 8 slices.\n"
     ]
    },
    {
     "name": "stderr",
     "output_type": "stream",
     "text": [
      "Performing inference on images:  90%|█████████████████████████████████████████████████▌     | 208/231 [01:30<00:09,  2.36it/s]"
     ]
    },
    {
     "name": "stdout",
     "output_type": "stream",
     "text": [
      "Prediction time is: 349.23 ms\n",
      "Performing prediction on 8 slices.\n"
     ]
    },
    {
     "name": "stderr",
     "output_type": "stream",
     "text": [
      "Performing inference on images:  90%|█████████████████████████████████████████████████▊     | 209/231 [01:30<00:09,  2.36it/s]"
     ]
    },
    {
     "name": "stdout",
     "output_type": "stream",
     "text": [
      "Prediction time is: 349.36 ms\n",
      "Performing prediction on 8 slices.\n"
     ]
    },
    {
     "name": "stderr",
     "output_type": "stream",
     "text": [
      "Performing inference on images:  91%|██████████████████████████████████████████████████     | 210/231 [01:31<00:09,  2.31it/s]"
     ]
    },
    {
     "name": "stdout",
     "output_type": "stream",
     "text": [
      "Prediction time is: 372.88 ms\n",
      "Performing prediction on 8 slices.\n"
     ]
    },
    {
     "name": "stderr",
     "output_type": "stream",
     "text": [
      "Performing inference on images:  91%|██████████████████████████████████████████████████▏    | 211/231 [01:31<00:08,  2.27it/s]"
     ]
    },
    {
     "name": "stdout",
     "output_type": "stream",
     "text": [
      "Prediction time is: 368.84 ms\n",
      "Performing prediction on 8 slices.\n"
     ]
    },
    {
     "name": "stderr",
     "output_type": "stream",
     "text": [
      "Performing inference on images:  92%|██████████████████████████████████████████████████▍    | 212/231 [01:32<00:08,  2.25it/s]"
     ]
    },
    {
     "name": "stdout",
     "output_type": "stream",
     "text": [
      "Prediction time is: 368.76 ms\n",
      "Performing prediction on 8 slices.\n"
     ]
    },
    {
     "name": "stderr",
     "output_type": "stream",
     "text": [
      "Performing inference on images:  92%|██████████████████████████████████████████████████▋    | 213/231 [01:32<00:08,  2.22it/s]"
     ]
    },
    {
     "name": "stdout",
     "output_type": "stream",
     "text": [
      "Prediction time is: 378.59 ms\n",
      "Performing prediction on 8 slices.\n"
     ]
    },
    {
     "name": "stderr",
     "output_type": "stream",
     "text": [
      "Performing inference on images:  93%|██████████████████████████████████████████████████▉    | 214/231 [01:33<00:07,  2.26it/s]"
     ]
    },
    {
     "name": "stdout",
     "output_type": "stream",
     "text": [
      "Prediction time is: 342.60 ms\n",
      "Performing prediction on 8 slices.\n"
     ]
    },
    {
     "name": "stderr",
     "output_type": "stream",
     "text": [
      "Performing inference on images:  93%|███████████████████████████████████████████████████▏   | 215/231 [01:33<00:06,  2.33it/s]"
     ]
    },
    {
     "name": "stdout",
     "output_type": "stream",
     "text": [
      "Prediction time is: 324.65 ms\n",
      "Performing prediction on 8 slices.\n"
     ]
    },
    {
     "name": "stderr",
     "output_type": "stream",
     "text": [
      "Performing inference on images:  94%|███████████████████████████████████████████████████▍   | 216/231 [01:34<00:06,  2.33it/s]"
     ]
    },
    {
     "name": "stdout",
     "output_type": "stream",
     "text": [
      "Prediction time is: 351.01 ms\n",
      "Performing prediction on 8 slices.\n"
     ]
    },
    {
     "name": "stderr",
     "output_type": "stream",
     "text": [
      "Performing inference on images:  94%|███████████████████████████████████████████████████▋   | 217/231 [01:34<00:06,  2.33it/s]"
     ]
    },
    {
     "name": "stdout",
     "output_type": "stream",
     "text": [
      "Prediction time is: 353.45 ms\n",
      "Performing prediction on 8 slices.\n"
     ]
    },
    {
     "name": "stderr",
     "output_type": "stream",
     "text": [
      "Performing inference on images:  94%|███████████████████████████████████████████████████▉   | 218/231 [01:34<00:05,  2.33it/s]"
     ]
    },
    {
     "name": "stdout",
     "output_type": "stream",
     "text": [
      "Prediction time is: 348.22 ms\n",
      "Performing prediction on 8 slices.\n"
     ]
    },
    {
     "name": "stderr",
     "output_type": "stream",
     "text": [
      "Performing inference on images:  95%|████████████████████████████████████████████████████▏  | 219/231 [01:35<00:05,  2.31it/s]"
     ]
    },
    {
     "name": "stdout",
     "output_type": "stream",
     "text": [
      "Prediction time is: 356.98 ms\n",
      "Performing prediction on 8 slices.\n"
     ]
    },
    {
     "name": "stderr",
     "output_type": "stream",
     "text": [
      "Performing inference on images:  95%|████████████████████████████████████████████████████▍  | 220/231 [01:35<00:04,  2.26it/s]"
     ]
    },
    {
     "name": "stdout",
     "output_type": "stream",
     "text": [
      "Prediction time is: 382.65 ms\n",
      "Performing prediction on 8 slices.\n"
     ]
    },
    {
     "name": "stderr",
     "output_type": "stream",
     "text": [
      "Performing inference on images:  96%|████████████████████████████████████████████████████▌  | 221/231 [01:36<00:04,  2.28it/s]"
     ]
    },
    {
     "name": "stdout",
     "output_type": "stream",
     "text": [
      "Prediction time is: 350.15 ms\n",
      "Performing prediction on 8 slices.\n"
     ]
    },
    {
     "name": "stderr",
     "output_type": "stream",
     "text": [
      "Performing inference on images:  96%|████████████████████████████████████████████████████▊  | 222/231 [01:36<00:03,  2.25it/s]"
     ]
    },
    {
     "name": "stdout",
     "output_type": "stream",
     "text": [
      "Prediction time is: 380.26 ms\n",
      "Performing prediction on 8 slices.\n"
     ]
    },
    {
     "name": "stderr",
     "output_type": "stream",
     "text": [
      "Performing inference on images:  97%|█████████████████████████████████████████████████████  | 223/231 [01:37<00:03,  2.25it/s]"
     ]
    },
    {
     "name": "stdout",
     "output_type": "stream",
     "text": [
      "Prediction time is: 366.07 ms\n",
      "Performing prediction on 8 slices.\n"
     ]
    },
    {
     "name": "stderr",
     "output_type": "stream",
     "text": [
      "Performing inference on images:  97%|█████████████████████████████████████████████████████▎ | 224/231 [01:37<00:03,  2.26it/s]"
     ]
    },
    {
     "name": "stdout",
     "output_type": "stream",
     "text": [
      "Prediction time is: 364.24 ms\n",
      "Performing prediction on 8 slices.\n"
     ]
    },
    {
     "name": "stderr",
     "output_type": "stream",
     "text": [
      "Performing inference on images:  97%|█████████████████████████████████████████████████████▌ | 225/231 [01:38<00:02,  2.29it/s]"
     ]
    },
    {
     "name": "stdout",
     "output_type": "stream",
     "text": [
      "Prediction time is: 341.36 ms\n",
      "Performing prediction on 8 slices.\n"
     ]
    },
    {
     "name": "stderr",
     "output_type": "stream",
     "text": [
      "Performing inference on images:  98%|█████████████████████████████████████████████████████▊ | 226/231 [01:38<00:02,  2.35it/s]"
     ]
    },
    {
     "name": "stdout",
     "output_type": "stream",
     "text": [
      "Prediction time is: 321.38 ms\n",
      "Performing prediction on 8 slices.\n"
     ]
    },
    {
     "name": "stderr",
     "output_type": "stream",
     "text": [
      "Performing inference on images:  98%|██████████████████████████████████████████████████████ | 227/231 [01:38<00:01,  2.37it/s]"
     ]
    },
    {
     "name": "stdout",
     "output_type": "stream",
     "text": [
      "Prediction time is: 335.53 ms\n",
      "Performing prediction on 8 slices.\n"
     ]
    },
    {
     "name": "stderr",
     "output_type": "stream",
     "text": [
      "Performing inference on images:  99%|██████████████████████████████████████████████████████▎| 228/231 [01:39<00:01,  2.34it/s]"
     ]
    },
    {
     "name": "stdout",
     "output_type": "stream",
     "text": [
      "Prediction time is: 360.86 ms\n",
      "Performing prediction on 8 slices.\n"
     ]
    },
    {
     "name": "stderr",
     "output_type": "stream",
     "text": [
      "Performing inference on images:  99%|██████████████████████████████████████████████████████▌| 229/231 [01:39<00:00,  2.34it/s]"
     ]
    },
    {
     "name": "stdout",
     "output_type": "stream",
     "text": [
      "Prediction time is: 345.48 ms\n",
      "Performing prediction on 8 slices.\n"
     ]
    },
    {
     "name": "stderr",
     "output_type": "stream",
     "text": [
      "Performing inference on images: 100%|██████████████████████████████████████████████████████▊| 230/231 [01:40<00:00,  2.37it/s]"
     ]
    },
    {
     "name": "stdout",
     "output_type": "stream",
     "text": [
      "Prediction time is: 336.07 ms\n",
      "Performing prediction on 8 slices.\n"
     ]
    },
    {
     "name": "stderr",
     "output_type": "stream",
     "text": [
      "Performing inference on images: 100%|███████████████████████████████████████████████████████| 231/231 [01:40<00:00,  2.30it/s]"
     ]
    },
    {
     "name": "stdout",
     "output_type": "stream",
     "text": [
      "Prediction time is: 353.51 ms\n",
      "Prediction results are successfully exported to runs/predict/exp16\n"
     ]
    },
    {
     "name": "stderr",
     "output_type": "stream",
     "text": [
      "\n"
     ]
    }
   ],
   "source": [
    "predict(\n",
    "    model_type=model_type,\n",
    "    model_path=model,\n",
    "    model_device=device,\n",
    "    model_confidence_threshold=confidence_threshold,\n",
    "    source='videos/clip_mobil/',\n",
    "    slice_height=slice_height,\n",
    "    slice_width=slice_width,\n",
    "    overlap_height_ratio=overlap_height_ratio,\n",
    "    overlap_width_ratio=overlap_width_ratio,\n",
    "    export_crop=True\n",
    ")"
   ]
  },
  {
   "cell_type": "code",
   "execution_count": null,
   "id": "105ac47e-4891-4031-88c4-9992aafeaefa",
   "metadata": {},
   "outputs": [],
   "source": []
  }
 ],
 "metadata": {
  "kernelspec": {
   "display_name": "Python 3 (ipykernel)",
   "language": "python",
   "name": "python3"
  },
  "language_info": {
   "codemirror_mode": {
    "name": "ipython",
    "version": 3
   },
   "file_extension": ".py",
   "mimetype": "text/x-python",
   "name": "python",
   "nbconvert_exporter": "python",
   "pygments_lexer": "ipython3",
   "version": "3.13.2"
  }
 },
 "nbformat": 4,
 "nbformat_minor": 5
}
