{
 "cells": [
  {
   "cell_type": "code",
   "execution_count": 16,
   "id": "7f7ddcdd-ae7c-438b-8a3f-2f3c3b5bc609",
   "metadata": {},
   "outputs": [],
   "source": [
    "import cv2"
   ]
  },
  {
   "cell_type": "code",
   "execution_count": 23,
   "id": "844341ab-f937-4b98-98b0-2e36e165708b",
   "metadata": {},
   "outputs": [],
   "source": [
    "name = 'clip_mobil'\n",
    "\n",
    "input_path = f'matches/{name}.MOV'\n",
    "output_dir = f'videos/{name}/'"
   ]
  },
  {
   "cell_type": "code",
   "execution_count": 24,
   "id": "5d9c9403-a673-42dc-ad89-794f48fc2f49",
   "metadata": {},
   "outputs": [],
   "source": [
    "def video_to_frames(video_path, output_dir):\n",
    "    cap = cv2.VideoCapture(video_path)\n",
    "    \n",
    "    if not cap.isOpened():\n",
    "        print(\"❌ Error: Cannot open video:\", video_path)\n",
    "        return\n",
    "    \n",
    "    frame_count = 0\n",
    "    while True:\n",
    "        ret, frame = cap.read()\n",
    "        if not ret:  # no more frames\n",
    "            break\n",
    "    \n",
    "        # Save frame as image\n",
    "        if frame_count % 10 == 0:\n",
    "            filename = f'{output_dir}/frame_{frame_count}.jpg'\n",
    "            cv2.imwrite(filename, frame)\n",
    "    \n",
    "        frame_count += 1\n",
    "    \n",
    "    cap.release()\n",
    "    print(f\"✅ Extracted {frame_count} frames to {output_dir}\")"
   ]
  },
  {
   "cell_type": "code",
   "execution_count": 25,
   "id": "284e9373-c1a9-4024-a146-3952a2e0cf03",
   "metadata": {},
   "outputs": [
    {
     "name": "stdout",
     "output_type": "stream",
     "text": [
      "✅ Extracted 2309 frames to videos/clip_mobil/\n"
     ]
    }
   ],
   "source": [
    "video_to_frames(input_path, output_dir)"
   ]
  },
  {
   "cell_type": "code",
   "execution_count": null,
   "id": "42f5bfe0-1227-4af1-be4a-e5c8e3034ad5",
   "metadata": {},
   "outputs": [],
   "source": []
  }
 ],
 "metadata": {
  "kernelspec": {
   "display_name": "Python 3 (ipykernel)",
   "language": "python",
   "name": "python3"
  },
  "language_info": {
   "codemirror_mode": {
    "name": "ipython",
    "version": 3
   },
   "file_extension": ".py",
   "mimetype": "text/x-python",
   "name": "python",
   "nbconvert_exporter": "python",
   "pygments_lexer": "ipython3",
   "version": "3.13.2"
  }
 },
 "nbformat": 4,
 "nbformat_minor": 5
}
